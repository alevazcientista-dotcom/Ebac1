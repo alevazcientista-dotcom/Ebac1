{
  "nbformat": 4,
  "nbformat_minor": 0,
  "metadata": {
    "colab": {
      "provenance": [],
      "authorship_tag": "ABX9TyPt2t1gez4Mt3pRg7g5nVY7"
    },
    "kernelspec": {
      "name": "python3",
      "display_name": "Python 3"
    },
    "language_info": {
      "name": "python"
    }
  },
  "cells": [
    {
      "cell_type": "markdown",
      "source": [
        "**M 13 - PArte 2-  Regressão II - regressão múltipla**\n",
        "\n",
        "## Tarefa I"
      ],
      "metadata": {
        "id": "pL2EZSKiwmk2"
      }
    },
    {
      "cell_type": "markdown",
      "source": [
        "#### Previsão de renda II\n",
        "\n",
        "Vamos continuar trabalhando com a base 'previsao_de_renda.csv', que é a base do seu próximo projeto. Vamos usar os recursos que vimos até aqui nesta base.\n",
        "\n",
        "|variavel|descrição|\n",
        "|-|-|\n",
        "|data_ref                | Data de referência de coleta das variáveis |\n",
        "|index                   | Código de identificação do cliente|\n",
        "|sexo                    | Sexo do cliente|\n",
        "|posse_de_veiculo        | Indica se o cliente possui veículo|\n",
        "|posse_de_imovel         | Indica se o cliente possui imóvel|\n",
        "|qtd_filhos              | Quantidade de filhos do cliente|\n",
        "|tipo_renda              | Tipo de renda do cliente|\n",
        "|educacao                | Grau de instrução do cliente|\n",
        "|estado_civil            | Estado civil do cliente|\n",
        "|tipo_residencia         | Tipo de residência do cliente (própria, alugada etc)|\n",
        "|idade                   | Idade do cliente|\n",
        "|tempo_emprego           | Tempo no emprego atual|\n",
        "|qt_pessoas_residencia   | Quantidade de pessoas que moram na residência|\n",
        "|renda                   | Renda em reais|"
      ],
      "metadata": {
        "id": "0uF3dBokxMoi"
      }
    },
    {
      "cell_type": "code",
      "source": [
        "# Importando as Bibliotecas\n",
        "import os\n",
        "import pandas as pd\n",
        "import numpy as np\n",
        "\n",
        "from sklearn.model_selection import train_test_split, GridSearchCV, cross_val_score\n",
        "from sklearn.preprocessing import StandardScaler, PolynomialFeatures\n",
        "from sklearn.compose import ColumnTransformer\n",
        "from sklearn.pipeline import Pipeline\n",
        "from sklearn.metrics import r2_score\n",
        "from sklearn.linear_model import Ridge, Lasso, LinearRegression\n",
        "from sklearn.feature_selection import SequentialFeatureSelector\n",
        "from sklearn.tree import DecisionTreeRegressor"
      ],
      "metadata": {
        "id": "vtrrHSOexEZK"
      },
      "execution_count": 6,
      "outputs": []
    },
    {
      "cell_type": "code",
      "source": [
        "RANDOM_STATE = 42"
      ],
      "metadata": {
        "id": "kaD0_G2OzaJ-"
      },
      "execution_count": 8,
      "outputs": []
    },
    {
      "cell_type": "code",
      "source": [
        "df = pd.read_csv('previsao_de_renda.csv')"
      ],
      "metadata": {
        "id": "z1VS9_AzxV1k"
      },
      "execution_count": 7,
      "outputs": []
    },
    {
      "cell_type": "code",
      "source": [
        "df.info()"
      ],
      "metadata": {
        "colab": {
          "base_uri": "https://localhost:8080/"
        },
        "id": "3P1WlYzpxiE1",
        "outputId": "d4737d52-4fdb-4227-e149-8d8bf35c6d48"
      },
      "execution_count": 9,
      "outputs": [
        {
          "output_type": "stream",
          "name": "stdout",
          "text": [
            "<class 'pandas.core.frame.DataFrame'>\n",
            "RangeIndex: 15000 entries, 0 to 14999\n",
            "Data columns (total 15 columns):\n",
            " #   Column                 Non-Null Count  Dtype  \n",
            "---  ------                 --------------  -----  \n",
            " 0   Unnamed: 0             15000 non-null  int64  \n",
            " 1   data_ref               15000 non-null  object \n",
            " 2   id_cliente             15000 non-null  int64  \n",
            " 3   sexo                   15000 non-null  object \n",
            " 4   posse_de_veiculo       15000 non-null  bool   \n",
            " 5   posse_de_imovel        15000 non-null  bool   \n",
            " 6   qtd_filhos             15000 non-null  int64  \n",
            " 7   tipo_renda             15000 non-null  object \n",
            " 8   educacao               15000 non-null  object \n",
            " 9   estado_civil           15000 non-null  object \n",
            " 10  tipo_residencia        15000 non-null  object \n",
            " 11  idade                  15000 non-null  int64  \n",
            " 12  tempo_emprego          12427 non-null  float64\n",
            " 13  qt_pessoas_residencia  15000 non-null  float64\n",
            " 14  renda                  15000 non-null  float64\n",
            "dtypes: bool(2), float64(3), int64(4), object(6)\n",
            "memory usage: 1.5+ MB\n"
          ]
        }
      ]
    },
    {
      "cell_type": "code",
      "source": [
        "def load_data():\n",
        "    # Ajuste o caminho conforme seu ambiente:\n",
        "    candidates = [\n",
        "        '/content/previsao_de_renda.csv',   # Colab\n",
        "        '/mnt/data/previsao_de_renda.csv',  # Anexo desta conversa\n",
        "        'previsao_de_renda.csv'             # diretório atual\n",
        "    ]\n",
        "    for p in candidates:\n",
        "        if os.path.exists(p):\n",
        "            df = pd.read_csv(p)\n",
        "            print(f\"Carregado: {p}\")\n",
        "            break\n",
        "    else:\n",
        "        raise FileNotFoundError(\"Arquivo previsao_de_renda.csv não encontrado nos caminhos padrão.\")\n",
        "\n",
        "    # Limpeza de coluna fantasma e nomes\n",
        "    if 'Unnamed: 0' in df.columns:\n",
        "        df = df.drop(columns=['Unnamed: 0'])\n",
        "    if 'index' in df.columns and 'id_cliente' not in df.columns:\n",
        "        df = df.rename(columns={'index': 'id_cliente'})\n",
        "\n",
        "    # Garante tipos e colunas esperadas\n",
        "    expected = ['data_ref','id_cliente','sexo','posse_de_veiculo','posse_de_imovel',\n",
        "                'qtd_filhos','tipo_renda','educacao','estado_civil','tipo_residencia',\n",
        "                'idade','tempo_emprego','qt_pessoas_residencia','renda']\n",
        "    miss = [c for c in expected if c not in df.columns]\n",
        "    if miss:\n",
        "        raise ValueError(f\"Colunas ausentes: {miss}\")\n",
        "\n",
        "    # Tipo data - Converter para datetime\n",
        "    df['data_ref'] = pd.to_datetime(df['data_ref'], errors='coerce')\n",
        "\n",
        "    return df"
      ],
      "metadata": {
        "id": "4cQJqB6wzjEN"
      },
      "execution_count": 63,
      "outputs": []
    },
    {
      "cell_type": "code",
      "source": [
        "# Garante tipos e colunas esperadas\n",
        "    expected = ['data_ref','id_cliente','sexo','posse_de_veiculo','posse_de_imovel',\n",
        "                'qtd_filhos','tipo_renda','educacao','estado_civil','tipo_residencia',\n",
        "                'idade','tempo_emprego','qt_pessoas_residencia','renda']\n",
        "    miss = [c for c in expected if c not in df.columns]\n",
        "    if miss:\n",
        "        raise ValueError(f\"Colunas ausentes: {miss}\")\n",
        "\n",
        "    # Tipo data\n",
        "    df['data_ref'] = pd.to_datetime(df['data_ref'], errors='coerce')\n",
        "    return df\n",
        "\n",
        "def split_train_test(df, target='renda', test_size=0.25):\n",
        "    # Define listas de colunas\n",
        "    cat_cols = ['sexo','tipo_renda','educacao','estado_civil','tipo_residencia']\n",
        "    bool_cols = ['posse_de_veiculo','posse_de_imovel']\n",
        "    num_cols  = ['qtd_filhos','idade','tempo_emprego','qt_pessoas_residencia']\n",
        "\n",
        "    # Extra: mês/ano como variável categórica (útil na Tarefa 6)\n",
        "    df = df.copy()\n",
        "    df['mes_ref'] = df['data_ref'].dt.to_period('M').astype(str)\n"
      ],
      "metadata": {
        "id": "NHjI02ZzzlO9"
      },
      "execution_count": 13,
      "outputs": []
    },
    {
      "cell_type": "code",
      "metadata": {
        "colab": {
          "base_uri": "https://localhost:8080/"
        },
        "id": "7bf16ee9",
        "outputId": "f8b12f9a-c18b-45a8-9ccb-7df4f13ad645"
      },
      "source": [
        "df = load_data()"
      ],
      "execution_count": 14,
      "outputs": [
        {
          "output_type": "stream",
          "name": "stdout",
          "text": [
            "Carregado: /content/previsao_de_renda.csv\n"
          ]
        }
      ]
    },
    {
      "cell_type": "code",
      "metadata": {
        "colab": {
          "base_uri": "https://localhost:8080/"
        },
        "id": "44d736a0",
        "outputId": "06272d07-9bbb-4e4d-c8c2-fc30b4d24c7f"
      },
      "source": [
        "# Separate features (X) and target (y)\n",
        "X = df.drop('renda', axis=1)\n",
        "y = df['renda']\n",
        "\n",
        "# Separate the data into training and testing sets\n",
        "X_train, X_test, y_train, y_test = train_test_split(X, y, test_size=0.25, random_state=RANDOM_STATE)\n",
        "\n",
        "print(\"Shape of X_train:\", X_train.shape)\n",
        "print(\"Shape of X_test:\", X_test.shape)\n",
        "print(\"Shape of y_train:\", y_train.shape)\n",
        "print(\"Shape of y_test:\", y_test.shape)"
      ],
      "execution_count": 27,
      "outputs": [
        {
          "output_type": "stream",
          "name": "stdout",
          "text": [
            "Dimensão de X_train: (11250, 13)\n",
            "Dimensão de X_test: (3750, 13)\n",
            "Dimensão de y_train: (11250,)\n",
            "Dimensão de y_test: (3750,)\n"
          ]
        }
      ]
    },
    {
      "cell_type": "code",
      "source": [
        "# Garante tipos e colunas esperadas\n",
        "    expected = ['data_ref','id_cliente','sexo','posse_de_veiculo','posse_de_imovel',\n",
        "                'qtd_filhos','tipo_renda','educacao','estado_civil','tipo_residencia',\n",
        "                'idade','tempo_emprego','qt_pessoas_residencia','renda']\n",
        "    miss = [c for c in expected if c not in df.columns]\n",
        "    if miss:\n",
        "        raise ValueError(f\"Colunas ausentes: {miss}\")\n",
        "\n",
        "    # Tipo data\n",
        "    df['data_ref'] = pd.to_datetime(df['data_ref'], errors='coerce')\n",
        "    return df\n",
        "\n",
        "def split_train_test(df, target='renda', test_size=0.25):\n",
        "    # Define listas de colunas\n",
        "    cat_cols = ['sexo','tipo_renda','educacao','estado_civil','tipo_residencia']\n",
        "    bool_cols = ['posse_de_veiculo','posse_de_imovel']\n",
        "    num_cols  = ['qtd_filhos','idade','tempo_emprego','qt_pessoas_residencia']\n",
        "\n",
        "    # Extra: mês/ano como variável categórica (útil na Tarefa 6)\n",
        "    df = df.copy()\n",
        "    df['mes_ref'] = df['data_ref'].dt.to_period('M').astype(str)\n"
      ],
      "metadata": {
        "id": "6Wog86Jfx4jZ"
      },
      "execution_count": 13,
      "outputs": []
    },
    {
      "cell_type": "code",
      "metadata": {
        "colab": {
          "base_uri": "https://localhost:8080/"
        },
        "id": "50d1d619",
        "outputId": "c0a8f498-ac57-43f9-ee42-62406f75ff3c"
      },
      "source": [
        "from sklearn.preprocessing import OneHotEncoder, StandardScaler\n",
        "from sklearn.impute import SimpleImputer # Import SimpleImputer\n",
        "\n",
        "# Define the preprocessing steps for numerical and categorical features\n",
        "numerical_features = ['qtd_filhos', 'idade', 'tempo_emprego', 'qt_pessoas_residencia']\n",
        "categorical_features = ['sexo', 'tipo_renda', 'educacao', 'estado_civil', 'tipo_residencia']\n",
        "\n",
        "# Create transformers for numerical and categorical features\n",
        "numerical_transformer = Pipeline(steps=[\n",
        "    ('imputer', SimpleImputer(strategy='mean')), # Impute missing values\n",
        "    ('scaler', StandardScaler())])\n",
        "\n",
        "categorical_transformer = Pipeline(steps=[\n",
        "    ('onehot', OneHotEncoder(handle_unknown='ignore'))]) # OneHotEncode categorical features\n",
        "\n",
        "\n",
        "preprocessor = ColumnTransformer(\n",
        "    transformers=[\n",
        "        ('num', numerical_transformer, numerical_features),\n",
        "        ('cat', categorical_transformer, categorical_features)\n",
        "    ],\n",
        "    remainder='drop'\n",
        ")\n",
        "\n",
        "# Create the Ridge regression pipeline\n",
        "ridge_pipeline = Pipeline(steps=[('preprocessor', preprocessor),\n",
        "                                 ('regressor', Ridge())])\n",
        "\n",
        "# Define the alpha values to test\n",
        "alphas = [0, 0.001, 0.005, 0.01, 0.05, 0.1]\n",
        "\n",
        "# Store the R-squared scores\n",
        "ridge_r2_scores = {}\n",
        "\n",
        "# Iterate through the alpha values and train the Ridge model\n",
        "for alpha in alphas:\n",
        "    ridge_pipeline.set_params(regressor__alpha=alpha)\n",
        "    ridge_pipeline.fit(X_train, y_train)\n",
        "    y_pred = ridge_pipeline.predict(X_test)\n",
        "    r2 = r2_score(y_test, y_pred)\n",
        "    ridge_r2_scores[alpha] = r2\n",
        "    print(f\"Ridge R-squared for alpha={alpha}: {r2}\")\n",
        "\n",
        "# Find the best alpha\n",
        "best_ridge_alpha = max(ridge_r2_scores, key=ridge_r2_scores.get)\n",
        "print(f\"\\nBest Ridge alpha: {best_ridge_alpha} with R-squared: {ridge_r2_scores[best_ridge_alpha]}\")"
      ],
      "execution_count": 28,
      "outputs": [
        {
          "output_type": "stream",
          "name": "stdout",
          "text": [
            "R-quadrado do Ridge para alpha=0: 0.26837431139026846\n",
            "R-quadrado do Ridge para alpha=0.001: 0.26821901927680225\n",
            "R-quadrado do Ridge para alpha=0.005: 0.26821904362092797\n",
            "R-quadrado do Ridge para alpha=0.01: 0.26821907402325007\n",
            "R-quadrado do Ridge para alpha=0.05: 0.268219316135453\n",
            "R-quadrado do Ridge para alpha=0.1: 0.26821961604332556\n",
            "\n",
            "Melhor alpha do Ridge: 0 com R-quadrado: 0.26837431139026846\n"
          ]
        }
      ]
    },
    {
      "cell_type": "code",
      "metadata": {
        "colab": {
          "base_uri": "https://localhost:8080/"
        },
        "id": "f4dd72da",
        "outputId": "2312243d-d15e-4304-8681-6cbb08efe488"
      },
      "source": [
        "from sklearn.tree import DecisionTreeRegressor\n",
        "from sklearn.model_selection import GridSearchCV\n",
        "\n",
        "# ÁRVORE DE REGRESSÃO ===\n",
        "\n",
        "# Vamos reutilizar o preprocessor simples (numéricas escaladas + dummies)\n",
        "# Certifique-se de que o preprocessor foi definido e executado anteriormente (célula 50d1d619)\n",
        "# Assumindo que 'preprocessor' do Ridge/LASSO foi definido e está disponível:\n",
        "\n",
        "pipe_tree = Pipeline(steps=[\n",
        "    ('pre', preprocessor), # Usando o preprocessor definido anteriormente\n",
        "    ('tree', DecisionTreeRegressor(random_state=RANDOM_STATE))\n",
        "])\n",
        "\n",
        "# Grid de parâmetros para tuning simples da árvore\n",
        "param_grid = {\n",
        "    'tree__max_depth': [3, 4, 5, 6, 8, 10, None],\n",
        "    'tree__min_samples_leaf': [1, 3, 5, 10, 20],\n",
        "    'tree__min_samples_split': [2, 5, 10]\n",
        "}\n",
        "\n",
        "print(\"Iniciando busca em grid para Árvore de Regressão...\")\n",
        "\n",
        "gs = GridSearchCV(pipe_tree, param_grid, scoring='r2', cv=5, n_jobs=-1)\n",
        "gs.fit(X_train, y_train) # Certifique-se de que X_train e y_train estão definidos (célula ubm9Pqo41JiF)\n",
        "\n",
        "print(\"\\nBusca em grid concluída.\")\n",
        "print(\"Melhores hiperparâmetros (Árvore):\", gs.best_params_)\n",
        "\n",
        "# Avaliar o melhor modelo encontrado no conjunto de teste\n",
        "y_pred_tree = gs.predict(X_test) # Certifique-se de que X_test está definido (célula ubm9Pqo41JiF)\n",
        "r2_tree = r2_score(y_test, y_pred_tree) # Certifique-se de que y_test está definido (célula ubm9Pqo41JiF)\n",
        "\n",
        "print(f\"\\n[Árvore de Regressão] R2 teste: {r2_tree:.5f}\")\n",
        "\n",
        "# Comparação final dos modelos (incluindo Árvore)\n",
        "print(\"\\n=== COMPARAÇÃO FINAL DE R² EM TESTE ===\")\n",
        "# Certifique-se de que as variáveis best_ridge_r2, best_lasso_r2, r2_stepwise e best_poly foram definidas anteriormente.\n",
        "if 'best_ridge_r2' in locals():\n",
        "    print(f\"Ridge melhor: {best_ridge_r2:.5f}\")\n",
        "if 'best_lasso_r2' in locals():\n",
        "     print(f\"LASSO melhor: {best_lasso_r2:.5f}\")\n",
        "if 'r2_stepwise' in locals():\n",
        "    print(f\"Stepwise:     {r2_stepwise:.5f}\")\n",
        "if 'best_poly' in locals() and best_poly is not None and best_poly[0] is not None: # Verifica se best_poly foi definido e tem um R2 válido\n",
        "    print(f\"Ridge+Poly:   {best_poly[0]:.5f}\")\n",
        "print(f\"Árvore:       {r2_tree:.5f}\")\n",
        "\n",
        "# Determinar o melhor modelo geral com base no R² de teste\n",
        "best_r2_overall = -np.inf\n",
        "best_model_name = \"Nenhum\"\n",
        "\n",
        "if 'best_ridge_r2' in locals() and best_ridge_r2 > best_r2_overall:\n",
        "    best_r2_overall = best_ridge_r2\n",
        "    best_model_name = \"Ridge\"\n",
        "\n",
        "if 'best_lasso_r2' in locals() and best_lasso_r2 > best_r2_overall:\n",
        "    best_r2_overall = best_lasso_r2\n",
        "    best_model_name = \"LASSO\"\n",
        "\n",
        "if 'r2_stepwise' in locals() and r2_stepwise > best_r2_overall:\n",
        "    best_r2_overall = r2_stepwise\n",
        "    best_model_name = \"Stepwise\"\n",
        "\n",
        "if 'best_poly' in locals() and best_poly is not None and best_poly[0] is not None and best_poly[0] > best_r2_overall:\n",
        "    best_r2_overall = best_poly[0]\n",
        "    best_model_name = \"Ridge+Polinomiais\"\n",
        "\n",
        "if r2_tree > best_r2_overall:\n",
        "    best_r2_overall = r2_tree\n",
        "    best_model_name = \"Árvore de Regressão\"\n",
        "\n",
        "print(f\"\\nO melhor modelo geral com base no R² no conjunto de teste é: {best_model_name} com R² = {best_r2_overall:.5f}\")"
      ],
      "execution_count": 77,
      "outputs": [
        {
          "output_type": "stream",
          "name": "stdout",
          "text": [
            "Iniciando busca em grid para Árvore de Regressão...\n",
            "\n",
            "Busca em grid concluída.\n",
            "Melhores hiperparâmetros (Árvore): {'tree__max_depth': 5, 'tree__min_samples_leaf': 1, 'tree__min_samples_split': 2}\n",
            "\n",
            "[Árvore de Regressão] R2 teste: 0.38091\n",
            "\n",
            "=== COMPARAÇÃO FINAL DE R² EM TESTE ===\n",
            "Ridge melhor: 0.26837\n",
            "LASSO melhor: 0.26823\n",
            "Stepwise:     0.26851\n",
            "Ridge+Poly:   0.26737\n",
            "Árvore:       0.38091\n",
            "\n",
            "O melhor modelo geral com base no R² no conjunto de teste é: Árvore de Regressão com R² = 0.38091\n"
          ]
        }
      ]
    },
    {
      "cell_type": "code",
      "source": [
        "def split_train_test(df, target='renda', test_size=0.25):\n",
        "    # Define listas de colunas\n",
        "    cat_cols = ['sexo','tipo_renda','educacao','estado_civil','tipo_residencia']\n",
        "    bool_cols = ['posse_de_veiculo','posse_de_imovel']\n",
        "    num_cols  = ['qtd_filhos','idade','tempo_emprego','qt_pessoas_residencia']\n",
        "\n",
        "    # Extra: mês/ano como variável categórica (útil na Tarefa 6)\n",
        "    df = df.copy()\n",
        "    df['mes_ref'] = df['data_ref'].dt.to_period('M').astype(str)\n",
        "\n",
        "    # Seleção base (sem vazamento)\n",
        "    X = df[cat_cols + bool_cols + num_cols + ['mes_ref']]\n",
        "    y = df[target].astype(float)\n",
        "\n",
        "    # Separação\n",
        "    X_train, X_test, y_train, y_test = train_test_split(\n",
        "        X, y, test_size=test_size, random_state=RANDOM_STATE\n",
        "    )\n",
        "\n",
        "    return X_train, X_test, y_train, y_test, cat_cols + ['mes_ref'], bool_cols, num_cols\n",
        "\n",
        "def make_preprocessor(cat_cols, bool_cols, num_cols, drop_first=True):\n",
        "    # One-hot para categóricas (drop_first=True evita multicolinearidade)\n",
        "    from sklearn.preprocessing import OneHotEncoder\n",
        "    cat_encoder = OneHotEncoder(drop='first' if drop_first else None, handle_unknown='ignore', sparse_output=False)\n",
        "\n",
        "    # Escalonamento para numéricas e booleanas (booleans -> 0/1 já ok; mas padronizar ajuda em regularização)\n",
        "    from sklearn.preprocessing import StandardScaler\n",
        "    numeric_transformer = Pipeline(steps=[\n",
        "        ('scaler', StandardScaler())\n",
        "    ])\n",
        "\n",
        "    pre = ColumnTransformer(\n",
        "        transformers=[\n",
        "            ('cat', cat_encoder, cat_cols),\n",
        "            ('bool', 'passthrough', bool_cols),\n",
        "            ('num', numeric_transformer, num_cols),\n",
        "        ],\n",
        "        remainder='drop'\n",
        "    )\n",
        "    return pre\n",
        "\n",
        "def get_feature_names(fitted_preprocessor):\n",
        "    # Recupera nomes de features após ColumnTransformer ajustado\n",
        "    return fitted_preprocessor.get_feature_names_out()\n",
        "\n",
        "\n",
        "def report_model(name, y_test, y_pred, coef_names=None, coefs=None, top=10):\n",
        "    r2 = r2_score(y_test, y_pred)\n",
        "    print(f\"\\n[{name}] R2 teste: {r2:.5f}\")\n",
        "    if coefs is not None and coef_names is not None:\n",
        "        co = pd.DataFrame({'feature': coef_names, 'coef': coefs})\n",
        "        co = co.reindex(co.coef.abs().sort_values(ascending=False).index)\n",
        "        print(f\"Top {top} coeficientes por |valor|:\\n\", co.head(top).to_string(index=False))\n",
        "    return r2"
      ],
      "metadata": {
        "id": "Dqx6C7BO0Pm0"
      },
      "execution_count": 81,
      "outputs": []
    },
    {
      "cell_type": "markdown",
      "source": [
        "1. Separe a base em treinamento e teste (25% para teste, 75% para treinamento).\n",
        "2. Rode uma regularização *ridge* com alpha = [0, 0.001, 0.005, 0.01, 0.05, 0.1] e avalie o $R^2$ na base de testes. Qual o melhor modelo?\n",
        "3. Faça o mesmo que no passo 2, com uma regressão *LASSO*. Qual método chega a um melhor resultado?\n",
        "4. Rode um modelo *stepwise*. Avalie o $R^2$ na vase de testes. Qual o melhor resultado?\n",
        "5. Compare os parâmetros e avalie eventuais diferenças. Qual modelo você acha o melhor de todos?\n",
        "6. Partindo dos modelos que você ajustou, tente melhorar o $R^2$ na base de testes. Use a criatividade, veja se consegue inserir alguma transformação ou combinação de variáveis.\n",
        "7. Ajuste uma árvore de regressão e veja se consegue um $R^2$ melhor com ela.\n"
      ],
      "metadata": {
        "id": "UWyNmWExyAtJ"
      }
    },
    {
      "cell_type": "markdown",
      "source": [
        "**1) SPLIT TREINO/TESTE (75/25)**"
      ],
      "metadata": {
        "id": "s7W3yJm31Ow0"
      }
    },
    {
      "cell_type": "code",
      "source": [
        "# SPLIT TREINO/TESTE (75/25)\n",
        "df = load_data()\n",
        "# Certifique-se de que load_data e split_train_test estão definidas e corrigidas\n",
        "X_train, X_test, y_train, y_test, cat_cols_all_split, bool_cols_split, num_cols_split = split_train_test(df, target='renda', test_size=0.25)\n",
        "\n",
        "# Define as listas de colunas explicitamente para uso nas células seguintes\n",
        "numerical_features = ['qtd_filhos', 'idade', 'tempo_emprego', 'qt_pessoas_residencia']\n",
        "categorical_features = ['sexo', 'tipo_renda', 'educacao', 'estado_civil', 'tipo_residencia']\n",
        "bool_cols = ['posse_de_veiculo','posse_de_imovel']\n",
        "cat_cols_all = cat_cols_all_split # Inclui 'mes_ref' se split_train_test a adiciona\n",
        "\n",
        "\n",
        "print(\"Tamanhos de X_train:\", X_train.shape)\n",
        "print(\"Tamanhos de X_test:\", X_test.shape)\n",
        "print(\"Tamanhos de y_train:\", y_train.shape)\n",
        "print(\"Tamanhos de y_test:\", y_test.shape)"
      ],
      "metadata": {
        "colab": {
          "base_uri": "https://localhost:8080/"
        },
        "id": "ubm9Pqo41JiF",
        "outputId": "bb92e13b-10cb-420a-de25-bcbdb2f218fc"
      },
      "execution_count": 79,
      "outputs": [
        {
          "output_type": "stream",
          "name": "stdout",
          "text": [
            "Carregado: /content/previsao_de_renda.csv\n",
            "Tamanhos de X_train: (11250, 12)\n",
            "Tamanhos de X_test: (3750, 12)\n",
            "Tamanhos de y_train: (11250,)\n",
            "Tamanhos de y_test: (3750,)\n"
          ]
        }
      ]
    },
    {
      "cell_type": "markdown",
      "source": [
        "**2) RIDGE COM GRID DE ALPHAS E R² NO TESTE**"
      ],
      "metadata": {
        "id": "mcs2VvI01Wqn"
      }
    },
    {
      "cell_type": "code",
      "source": [
        "# 2) RIDGE COM GRID DE ALPHAS E R² NO TESTE\n",
        "alphas = [0, 0.001, 0.005, 0.01, 0.05, 0.1]\n",
        "\n",
        "# Certifique-se de que make_preprocessor está definida e corrigida.\n",
        "# pre = make_preprocessor(cat_cols_all, bool_cols, num_cols, drop_first=True) # Usar se make_preprocessor for a desejada\n",
        "\n",
        "# Reutilizando o preprocessor já definido para consistência com as outras análises\n",
        "pre = preprocessor\n",
        "\n",
        "results_ridge = []\n",
        "best_ridge = (None, -np.inf, None, None)  # (alpha, r2, pipeline, feat_names)\n",
        "\n",
        "for a in alphas:\n",
        "    pipe = Pipeline(steps=[\n",
        "        ('pre', pre),\n",
        "        ('ridge', Ridge(alpha=a, random_state=RANDOM_STATE))\n",
        "    ])\n",
        "    pipe.fit(X_train, y_train)\n",
        "    y_pred = pipe.predict(X_test)\n",
        "    r2 = r2_score(y_test, y_pred)\n",
        "    # results_ridge.append(r2) # Removido para evitar duplicação\n",
        "\n",
        "    # nomes e coef\n",
        "    # Para usar get_feature_names, o preprocessor precisa ter sido ajustado\n",
        "    fitted_preprocessor = pipe.named_steps['pre']\n",
        "    feat_names = get_feature_names(fitted_preprocessor)\n",
        "    coefs = pipe.named_steps['ridge'].coef_\n",
        "    r2_reported = report_model(f\"Ridge alpha={a}\", y_test, y_pred, feat_names, coefs, top=8)\n",
        "    results_ridge.append((a, r2_reported)) # Usando o r2 retornado por report_model\n",
        "\n",
        "    if r2_reported > best_ridge[1]:\n",
        "        best_ridge = (a, r2_reported, pipe, feat_names)\n",
        "\n",
        "print(\"\\nMelhor Ridge:\", best_ridge[0], \"R2 teste:\", round(best_ridge[1], 5))\n",
        "\n",
        "# Atribuir ao best_ridge_r2 para uso posterior\n",
        "best_ridge_r2 = best_ridge[1]\n",
        "best_ridge_alpha = best_ridge[0]"
      ],
      "metadata": {
        "colab": {
          "base_uri": "https://localhost:8080/"
        },
        "id": "jo12RxmN1a6R",
        "outputId": "203142b4-86ce-40cd-f256-2c20ef169d6e"
      },
      "execution_count": 82,
      "outputs": [
        {
          "output_type": "stream",
          "name": "stdout",
          "text": [
            "\n",
            "[Ridge alpha=0] R2 teste: 0.26837\n",
            "Top 8 coeficientes por |valor|:\n",
            "                           feature          coef\n",
            "      cat__educacao_Pós graduação  3.001182e+17\n",
            "  cat__educacao_Superior completo  3.001182e+17\n",
            "           cat__educacao_Primário  3.001182e+17\n",
            "         cat__educacao_Secundário  3.001182e+17\n",
            "cat__educacao_Superior incompleto  3.001182e+17\n",
            "          cat__estado_civil_União -2.182464e+17\n",
            "         cat__estado_civil_Casado -2.182464e+17\n",
            "       cat__estado_civil_Solteiro -2.182464e+17\n",
            "\n",
            "[Ridge alpha=0.001] R2 teste: 0.26822\n",
            "Top 8 coeficientes por |valor|:\n",
            "                     feature         coef\n",
            "         num__tempo_emprego  3388.645475\n",
            "                cat__sexo_F -2918.649917\n",
            "                cat__sexo_M  2918.649917\n",
            " cat__tipo_renda_Empresário  1183.083166\n",
            "cat__tipo_renda_Pensionista -1100.298189\n",
            " num__qt_pessoas_residencia  1033.120377\n",
            "cat__educacao_Pós graduação   874.529763\n",
            "    cat__estado_civil_União  -807.880280\n",
            "\n",
            "[Ridge alpha=0.005] R2 teste: 0.26822\n",
            "Top 8 coeficientes por |valor|:\n",
            "                     feature         coef\n",
            "         num__tempo_emprego  3388.643993\n",
            "                cat__sexo_F -2918.647079\n",
            "                cat__sexo_M  2918.647079\n",
            " cat__tipo_renda_Empresário  1182.976125\n",
            "cat__tipo_renda_Pensionista -1100.400166\n",
            " num__qt_pessoas_residencia  1032.838103\n",
            "cat__educacao_Pós graduação   874.361552\n",
            "    cat__estado_civil_União  -807.689406\n",
            "\n",
            "[Ridge alpha=0.01] R2 teste: 0.26822\n",
            "Top 8 coeficientes por |valor|:\n",
            "                     feature         coef\n",
            "         num__tempo_emprego  3388.642140\n",
            "                cat__sexo_F -2918.643531\n",
            "                cat__sexo_M  2918.643531\n",
            " cat__tipo_renda_Empresário  1182.842477\n",
            "cat__tipo_renda_Pensionista -1100.527482\n",
            " num__qt_pessoas_residencia  1032.485489\n",
            "cat__educacao_Pós graduação   874.151380\n",
            "    cat__estado_civil_União  -807.450972\n",
            "\n",
            "[Ridge alpha=0.05] R2 teste: 0.26822\n",
            "Top 8 coeficientes por |valor|:\n",
            "                     feature         coef\n",
            "         num__tempo_emprego  3388.627334\n",
            "                cat__sexo_M  2918.615148\n",
            "                cat__sexo_F -2918.615148\n",
            " cat__tipo_renda_Empresário  1181.779563\n",
            "cat__tipo_renda_Pensionista -1101.539748\n",
            " num__qt_pessoas_residencia  1029.673700\n",
            "cat__educacao_Pós graduação   872.473598\n",
            "    cat__estado_civil_União  -805.549633\n",
            "\n",
            "[Ridge alpha=0.1] R2 teste: 0.26822\n",
            "Top 8 coeficientes por |valor|:\n",
            "                     feature         coef\n",
            "         num__tempo_emprego  3388.608857\n",
            "                cat__sexo_F -2918.579675\n",
            "                cat__sexo_M  2918.579675\n",
            " cat__tipo_renda_Empresário  1180.466388\n",
            "cat__tipo_renda_Pensionista -1102.789612\n",
            " num__qt_pessoas_residencia  1026.181609\n",
            "cat__educacao_Pós graduação   870.385312\n",
            "    cat__estado_civil_União  -803.188199\n",
            "\n",
            "Melhor Ridge: 0 R2 teste: 0.26837\n"
          ]
        }
      ]
    },
    {
      "cell_type": "code",
      "source": [
        "# Este código parece ser um fragmento ou duplicação e contém um erro de indentação.\n",
        "# Ele será removido para evitar duplicação e confusão.\n",
        "# Se houver partes úteis, elas foram integradas nas células corrigidas."
      ],
      "metadata": {
        "id": "sIdxFkWU1nRx"
      },
      "execution_count": 50,
      "outputs": []
    },
    {
      "cell_type": "markdown",
      "source": [
        "**3) Regressão LASSO (alpha grid) e R² no teste**"
      ],
      "metadata": {
        "id": "ojruOH1U141i"
      }
    },
    {
      "cell_type": "code",
      "source": [
        "from sklearn.linear_model import Lasso\n",
        "\n",
        "# Create the LASSO regression pipeline - Criar o pipeline de regressão LASSO\n",
        "lasso_pipeline = Pipeline(steps=[('preprocessor', preprocessor),\n",
        "                                 ('regressor', Lasso(random_state=RANDOM_STATE, max_iter=10000))]) # Aumentado max_iter para ajudar na convergência\n",
        "\n",
        "# Define the alpha values to test - Definir os valores de alpha a testar\n",
        "alphas = [0, 0.001, 0.005, 0.01, 0.05, 0.1]\n",
        "\n",
        "# Store the R-squared scores - Armazenar os escores de R-quadrado\n",
        "lasso_r2_scores = {}\n",
        "\n",
        "# Initialize best_lasso with negative infinity R2 - Inicializar best_lasso com R2 menos infinito\n",
        "best_lasso = (None, -np.inf, None, None) # (alpha, r2, pipeline, feat_names)\n",
        "\n",
        "# Iterate through the alpha values and train the LASSO model - Iterar pelos valores de alpha e treinar o modelo LASSO\n",
        "for alpha in alphas:\n",
        "    # Lasso with alpha=0 is equivalent to Linear Regression, which might not converge with the default settings.\n",
        "    # We'll skip alpha=0 for Lasso or handle it separately if needed. For now, let's assume we are interested in regularization effects.\n",
        "    # LASSO com alpha=0 é equivalente à Regressão Linear, que pode não convergir com as configurações padrão.\n",
        "    # Vamos pular alpha=0 para LASSO ou tratá-lo separadamente, se necessário. Por enquanto, vamos assumir que estamos interessados em efeitos de regularização.\n",
        "    if alpha == 0:\n",
        "        print(f\"Pulando Lasso para alpha={alpha}, pois é equivalente à Regressão Linear.\")\n",
        "        continue\n",
        "\n",
        "    pipe = Pipeline(steps=[('preprocessor', preprocessor),\n",
        "                           ('regressor', Lasso(alpha=alpha, random_state=RANDOM_STATE, max_iter=10000))])\n",
        "    pipe.fit(X_train, y_train)\n",
        "    y_pred = pipe.predict(X_test)\n",
        "    r2 = r2_score(y_test, y_pred)\n",
        "    lasso_r2_scores[alpha] = r2\n",
        "    print(f\"R-quadrado do LASSO para alpha={alpha}: {r2}\")\n",
        "\n",
        "    # Update best_lasso if current alpha gives better R2 - Atualizar best_lasso se o alpha atual der um R2 melhor\n",
        "    if r2 > best_lasso[1]:\n",
        "        # To get feature names, we need the fitted preprocessor - Para obter os nomes das características, precisamos do preprocessor ajustado\n",
        "        fitted_preprocessor = pipe.named_steps['preprocessor']\n",
        "        # Use the get_feature_names function defined in Dqx6C7BO0Pm0 - Usar a função get_feature_names definida em Dqx6C7BO0Pm0\n",
        "        feat_names = get_feature_names(fitted_preprocessor)\n",
        "        best_lasso = (alpha, r2, pipe, feat_names)\n",
        "\n",
        "\n",
        "# Find the best alpha for LASSO (from the stored scores) - Encontrar o melhor alpha para LASSO (dos escores armazenados)\n",
        "# This is redundant if best_lasso is updated in the loop, but keep for clarity/consistency with Ridge\n",
        "best_lasso_alpha_from_scores = max(lasso_r2_scores, key=lasso_r2_scores.get)\n",
        "# Ensure best_lasso_alpha is set to the alpha from the best_lasso tuple for consistency\n",
        "best_lasso_alpha = best_lasso[0]\n",
        "best_lasso_r2 = best_lasso[1]\n",
        "\n",
        "print(f\"\\nMelhor alpha do LASSO: {best_lasso_alpha} com R-quadrado: {best_lasso_r2}\")\n",
        "print(f\"Valor de best_lasso após o loop: {best_lasso}\") # Debug print\n",
        "\n",
        "# Compare with the best Ridge R-squared - Comparar com o melhor R-quadrado do Ridge\n",
        "# Certifique-se que best_ridge_alpha e ridge_r2_scores estão definidos das células anteriores\n",
        "if 'best_ridge_r2' in locals() and 'ridge_r2_scores' in locals():\n",
        "    best_ridge_r2_compare = ridge_r2_scores[best_ridge_alpha] # Use a variable for comparison to avoid confusion\n",
        "    best_lasso_r2_compare = best_lasso_r2 # Use the R2 from the best_lasso tuple\n",
        "\n",
        "    print(f\"\\nMelhor R-quadrado do Ridge: {best_ridge_r2_compare}\")\n",
        "    print(f\"Melhor R-quadrado do LASSO: {best_lasso_r2_compare}\")\n",
        "\n",
        "    if best_lasso_r2_compare > best_ridge_r2_compare:\n",
        "        print(\"A regressão LASSO resultou em um escore de R-quadrado melhor.\")\n",
        "    elif best_ridge_r2_compare > best_lasso_r2_compare:\n",
        "        print(\"A regressão Ridge resultou em um escore de R-quadrado melhor.\")\n",
        "    else:\n",
        "        print(\"Ambas as regressões Ridge e LASSO resultaram no mesmo escore de R-quadrado.\")\n",
        "else:\n",
        "    print(\"\\nNão foi possível comparar Ridge e LASSO: resultados do Ridge não encontrados.\")"
      ],
      "metadata": {
        "colab": {
          "base_uri": "https://localhost:8080/"
        },
        "id": "X5W_KoUp1645",
        "outputId": "f19f6b18-633f-4cae-8e35-175205cc32c0"
      },
      "execution_count": 90,
      "outputs": [
        {
          "output_type": "stream",
          "name": "stdout",
          "text": [
            "Pulando Lasso para alpha=0, pois é equivalente à Regressão Linear.\n"
          ]
        },
        {
          "output_type": "stream",
          "name": "stderr",
          "text": [
            "/usr/local/lib/python3.12/dist-packages/sklearn/linear_model/_coordinate_descent.py:695: ConvergenceWarning: Objective did not converge. You might want to increase the number of iterations, check the scale of the features or consider increasing regularisation. Duality gap: 6.175e+10, tolerance: 7.723e+07\n",
            "  model = cd_fast.enet_coordinate_descent(\n"
          ]
        },
        {
          "output_type": "stream",
          "name": "stdout",
          "text": [
            "R-quadrado do LASSO para alpha=0.001: 0.26821910318532616\n"
          ]
        },
        {
          "output_type": "stream",
          "name": "stderr",
          "text": [
            "/usr/local/lib/python3.12/dist-packages/sklearn/linear_model/_coordinate_descent.py:695: ConvergenceWarning: Objective did not converge. You might want to increase the number of iterations, check the scale of the features or consider increasing regularisation. Duality gap: 6.776e+08, tolerance: 7.723e+07\n",
            "  model = cd_fast.enet_coordinate_descent(\n"
          ]
        },
        {
          "output_type": "stream",
          "name": "stdout",
          "text": [
            "R-quadrado do LASSO para alpha=0.005: 0.2682195196265811\n"
          ]
        },
        {
          "output_type": "stream",
          "name": "stderr",
          "text": [
            "/usr/local/lib/python3.12/dist-packages/sklearn/linear_model/_coordinate_descent.py:695: ConvergenceWarning: Objective did not converge. You might want to increase the number of iterations, check the scale of the features or consider increasing regularisation. Duality gap: 6.776e+08, tolerance: 7.723e+07\n",
            "  model = cd_fast.enet_coordinate_descent(\n"
          ]
        },
        {
          "output_type": "stream",
          "name": "stdout",
          "text": [
            "R-quadrado do LASSO para alpha=0.01: 0.2682200388627459\n",
            "R-quadrado do LASSO para alpha=0.05: 0.2682238637177049\n",
            "R-quadrado do LASSO para alpha=0.1: 0.26822809857866803\n",
            "\n",
            "Melhor alpha do LASSO: 0.1 com R-quadrado: 0.26822809857866803\n",
            "Valor de best_lasso após o loop: (0.1, 0.26822809857866803, Pipeline(steps=[('preprocessor',\n",
            "                 ColumnTransformer(transformers=[('num',\n",
            "                                                  Pipeline(steps=[('imputer',\n",
            "                                                                   SimpleImputer()),\n",
            "                                                                  ('scaler',\n",
            "                                                                   StandardScaler())]),\n",
            "                                                  ['qtd_filhos', 'idade',\n",
            "                                                   'tempo_emprego',\n",
            "                                                   'qt_pessoas_residencia']),\n",
            "                                                 ('cat',\n",
            "                                                  Pipeline(steps=[('onehot',\n",
            "                                                                   OneHotEncoder(handle_unknown='ignore'))]),\n",
            "                                                  ['sexo', 'tipo_renda',\n",
            "                                                   'educacao', 'estado_civil',\n",
            "                                                   'tipo_residencia'])])),\n",
            "                ('regressor',\n",
            "                 Lasso(alpha=0.1, max_iter=10000, random_state=42))]), array(['num__qtd_filhos', 'num__idade', 'num__tempo_emprego',\n",
            "       'num__qt_pessoas_residencia', 'cat__sexo_F', 'cat__sexo_M',\n",
            "       'cat__tipo_renda_Assalariado', 'cat__tipo_renda_Bolsista',\n",
            "       'cat__tipo_renda_Empresário', 'cat__tipo_renda_Pensionista',\n",
            "       'cat__tipo_renda_Servidor público', 'cat__educacao_Primário',\n",
            "       'cat__educacao_Pós graduação', 'cat__educacao_Secundário',\n",
            "       'cat__educacao_Superior completo',\n",
            "       'cat__educacao_Superior incompleto', 'cat__estado_civil_Casado',\n",
            "       'cat__estado_civil_Separado', 'cat__estado_civil_Solteiro',\n",
            "       'cat__estado_civil_União', 'cat__estado_civil_Viúvo',\n",
            "       'cat__tipo_residencia_Aluguel', 'cat__tipo_residencia_Casa',\n",
            "       'cat__tipo_residencia_Com os pais',\n",
            "       'cat__tipo_residencia_Comunitário', 'cat__tipo_residencia_Estúdio',\n",
            "       'cat__tipo_residencia_Governamental'], dtype=object))\n",
            "\n",
            "Melhor R-quadrado do Ridge: 0.26837431139026846\n",
            "Melhor R-quadrado do LASSO: 0.26822809857866803\n",
            "A regressão Ridge resultou em um escore de R-quadrado melhor.\n"
          ]
        }
      ]
    },
    {
      "cell_type": "markdown",
      "source": [
        "**4) Stepwise (Sequential Feature Selector) e R² no teste**"
      ],
      "metadata": {
        "id": "Bgg6xm6f2H1k"
      }
    },
    {
      "cell_type": "code",
      "source": [
        "# 4) Stepwise (Sequential Feature Selector) e R² no teste\n",
        "# STEPWISE (FORWARD SFS) + R² NO TESTE ===\n",
        "# Observação: usamos SFS (forward) com LinearRegression. Vamos buscar o melhor k (número de features).\n",
        "from math import inf\n",
        "from sklearn.linear_model import LinearRegression\n",
        "from sklearn.feature_selection import SequentialFeatureSelector\n",
        "from sklearn.model_selection import cross_val_score\n",
        "\n",
        "# Primeiro, obtemos a matriz transformada para poder aplicar SFS\n",
        "# Reutilizando o preprocessor já definido (definido na célula 50d1d619)\n",
        "# Certifique-se de que o 'preprocessor' foi definido na célula 50d1d619 e executado\n",
        "pre_no_drop = preprocessor # Usando o preprocessor já definido\n",
        "\n",
        "# Certifique-se de que X_train foi definido (na célula ubm9Pqo41JiF)\n",
        "pre_no_drop.fit(X_train)  # para travar categorias e scaler\n",
        "Xtr = pre_no_drop.transform(X_train)\n",
        "Xte = pre_no_drop.transform(X_test) # Certifique-se de que X_test foi definido (na célula ubm9Pqo41JiF)\n",
        "\n",
        "# Certifique-se de que get_feature_names está definida e corrigida (na célula Dqx6C7BO0Pm0).\n",
        "# Certifique-se de que numerical_features, categorical_features, e bool_cols estão definidas (agora na célula ubm9Pqo41JiF).\n",
        "# Ajuste a chamada para get_feature_names para usar as variáveis definidas.\n",
        "feat_names = get_feature_names(pre_no_drop)\n",
        "\n",
        "\n",
        "max_k = min(30, Xtr.shape[1])  # limite prático\n",
        "best_sfs = {'k': None, 'cv_score': -inf, 'r2_test': -inf, 'mask': None}\n",
        "\n",
        "# Ajuste no range para garantir k < n_features\n",
        "for k in range(1, max_k):\n",
        "    sfs = SequentialFeatureSelector(\n",
        "        LinearRegression(),\n",
        "        n_features_to_select=k,\n",
        "        direction='forward',\n",
        "        scoring='r2',\n",
        "        cv=5,\n",
        "        n_jobs=-1\n",
        "    )\n",
        "    sfs.fit(Xtr, y_train) # Certifique-se de que y_train foi definido (na célula ubm9Pqo41JiF)\n",
        "    mask = sfs.get_support()\n",
        "    # Reajusta com features selecionadas e avalia no teste\n",
        "    lr = LinearRegression()\n",
        "    lr.fit(Xtr[:, mask], y_train)\n",
        "    y_pred = lr.predict(Xte[:, mask])\n",
        "    r2 = r2_score(y_test, y_pred) # Certifique-se de que y_test foi definido (na célula ubm9Pqo41JiF)\n",
        "\n",
        "    # melhor k pelo score em TESTE (primário); cv_score como apoio\n",
        "    cv_score = np.mean(cross_val_score(LinearRegression(), Xtr[:, mask], y_train, scoring='r2', cv=5))\n",
        "    if r2 > best_sfs['r2_test']:\n",
        "        best_sfs = {'k': k, 'cv_score': cv_score, 'r2_test': r2, 'mask': mask}\n",
        "\n",
        "print(f\"\\nMelhor Stepwise (k={best_sfs['k']}): R2 teste={best_sfs['r2_test']:.5f} | R2 CV={best_sfs['cv_score']:.5f}\")\n",
        "\n",
        "# Mostra as features escolhidas\n",
        "chosen = [feat_names[i] for i, keep in enumerate(best_sfs['mask']) if keep]\n",
        "print(\"\\nCaracterísticas selecionadas (Stepwise):\")\n",
        "for f in chosen:\n",
        "    print(\" -\", f)\n",
        "\n",
        "# Armazenar r2_stepwise para comparação posterior\n",
        "r2_stepwise = best_sfs['r2_test']"
      ],
      "metadata": {
        "colab": {
          "base_uri": "https://localhost:8080/"
        },
        "id": "ahOdlU4N2NnB",
        "outputId": "e639be84-ccff-4ffc-a5c8-642eb94d802b"
      },
      "execution_count": 84,
      "outputs": [
        {
          "output_type": "stream",
          "name": "stdout",
          "text": [
            "\n",
            "Melhor Stepwise (k=21): R2 teste=0.26884 | R2 CV=0.25826\n",
            "\n",
            "Características selecionadas (Stepwise):\n",
            " - num__qtd_filhos\n",
            " - num__idade\n",
            " - num__tempo_emprego\n",
            " - num__qt_pessoas_residencia\n",
            " - cat__sexo_F\n",
            " - cat__sexo_M\n",
            " - cat__tipo_renda_Bolsista\n",
            " - cat__tipo_renda_Empresário\n",
            " - cat__tipo_renda_Pensionista\n",
            " - cat__educacao_Primário\n",
            " - cat__educacao_Pós graduação\n",
            " - cat__educacao_Secundário\n",
            " - cat__educacao_Superior completo\n",
            " - cat__educacao_Superior incompleto\n",
            " - cat__estado_civil_Casado\n",
            " - cat__estado_civil_Separado\n",
            " - cat__estado_civil_Solteiro\n",
            " - cat__estado_civil_União\n",
            " - cat__estado_civil_Viúvo\n",
            " - cat__tipo_residencia_Aluguel\n",
            " - cat__tipo_residencia_Comunitário\n"
          ]
        }
      ]
    },
    {
      "cell_type": "markdown",
      "source": [
        "**5) Comparar parâmetros (coeficientes) e eleger melhor modelo**"
      ],
      "metadata": {
        "id": "YNWBn4xP2crO"
      }
    },
    {
      "cell_type": "code",
      "source": [
        "# COMPARAÇÃO DE PARÂMETROS E ESCOLHA DO MELHOR ===\n",
        "\n",
        "# Consolidar os 3 melhores (Ridge, LASSO, Stepwise)\n",
        "models_summary = []\n",
        "\n",
        "# Ridge\n",
        "# Certifique-se de que best_ridge está definido na célula jo12RxmN1a6R\n",
        "a_ridge, r2_ridge, pipe_ridge, names_r = best_ridge\n",
        "coef_ridge = pipe_ridge.named_steps['ridge'].coef_\n",
        "models_summary.append(('Ridge', r2_ridge))\n",
        "\n",
        "# LASSO\n",
        "# Certifique-se de que best_lasso está definido na célula X5W_KoUp1645\n",
        "# best_lasso é uma tupla (alpha, r2, pipeline, feat_names)\n",
        "a_lasso, r2_lasso, pipe_lasso, names_l = best_lasso\n",
        "coef_lasso = pipe_lasso.named_steps['regressor'].coef_ # Corrigido: 'lasso' para 'regressor'\n",
        "models_summary.append(('LASSO', r2_lasso))\n",
        "\n",
        "\n",
        "# Stepwise\n",
        "# Certifique-se de que best_sfs, pre_no_drop, X_train, y_train, X_test, y_test, feat_names estão definidos\n",
        "mask = best_sfs['mask']\n",
        "lr = LinearRegression().fit(\n",
        "    pre_no_drop.transform(X_train)[:, mask],\n",
        "    y_train\n",
        ")\n",
        "y_pred_sfs = lr.predict(pre_no_drop.transform(X_test)[:, mask])\n",
        "r2_sfs = r2_score(y_test, y_pred_sfs)\n",
        "coef_sfs = lr.coef_\n",
        "# Obter os nomes das features selecionadas pelo stepwise\n",
        "names_s = [feat_names[i] for i, keep in enumerate(mask) if keep]\n",
        "models_summary.append(('Stepwise', r2_sfs))\n",
        "\n",
        "print(\"\\nR² em teste por modelo:\")\n",
        "for name, r2 in models_summary:\n",
        "    print(f\" - {name}: {r2:.5f}\")\n",
        "\n",
        "# Melhor por R²\n",
        "best_name, best_r2 = max(models_summary, key=lambda x: x[1])\n",
        "print(f\"\\n==> Melhor modelo (R² teste): {best_name} (R²={best_r2:.5f})\")\n",
        "\n",
        "# Mostrar coeficientes principais de cada um\n",
        "def top_coefs(names, coefs, top=10, title=\"Coefs\"):\n",
        "    co = pd.DataFrame({'feature': names, 'coef': coefs})\n",
        "    co = co.reindex(co.coef.abs().sort_values(ascending=False).index)\n",
        "    print(f\"\\n{title} — Top {top} |coef|\")\n",
        "    print(co.head(top).to_string(index=False))\n",
        "\n",
        "# Certifique-se de que names_r, coef_ridge, names_l, coef_lasso, names_s, coef_sfs estão definidos\n",
        "top_coefs(names_r, coef_ridge, title=f\"Ridge (alpha={a_ridge})\")\n",
        "top_coefs(names_l, coef_lasso, title=f\"LASSO (alpha={a_lasso})\")\n",
        "top_coefs(names_s, coef_sfs, title=f\"Stepwise (k={best_sfs['k']})\")"
      ],
      "metadata": {
        "colab": {
          "base_uri": "https://localhost:8080/"
        },
        "id": "SrcjklWaFCQB",
        "outputId": "c527d249-ccc0-4352-9278-947ed71fd5f6"
      },
      "execution_count": 92,
      "outputs": [
        {
          "output_type": "stream",
          "name": "stdout",
          "text": [
            "\n",
            "R² em teste por modelo:\n",
            " - Ridge: 0.26837\n",
            " - LASSO: 0.26823\n",
            " - Stepwise: 0.26884\n",
            "\n",
            "==> Melhor modelo (R² teste): Stepwise (R²=0.26884)\n",
            "\n",
            "Ridge (alpha=0) — Top 10 |coef|\n",
            "                          feature          coef\n",
            "      cat__educacao_Pós graduação  3.001182e+17\n",
            "  cat__educacao_Superior completo  3.001182e+17\n",
            "           cat__educacao_Primário  3.001182e+17\n",
            "         cat__educacao_Secundário  3.001182e+17\n",
            "cat__educacao_Superior incompleto  3.001182e+17\n",
            "          cat__estado_civil_União -2.182464e+17\n",
            "         cat__estado_civil_Casado -2.182464e+17\n",
            "       cat__estado_civil_Solteiro -2.182464e+17\n",
            "       cat__estado_civil_Separado -2.182464e+17\n",
            "          cat__estado_civil_Viúvo -2.182464e+17\n",
            "\n",
            "LASSO (alpha=0.1) — Top 10 |coef|\n",
            "                     feature         coef\n",
            "                 cat__sexo_F -5836.704091\n",
            "          num__tempo_emprego  3388.593911\n",
            " cat__tipo_renda_Pensionista -1414.814108\n",
            " cat__educacao_Pós graduação  1032.680140\n",
            "  num__qt_pessoas_residencia   929.071153\n",
            "    cat__tipo_renda_Bolsista  -914.619407\n",
            "     cat__estado_civil_União  -872.474759\n",
            "  cat__tipo_renda_Empresário   867.092160\n",
            "cat__tipo_residencia_Estúdio   856.600295\n",
            "             num__qtd_filhos  -689.505906\n",
            "\n",
            "Stepwise (k=21) — Top 10 |coef|\n",
            "                    feature         coef\n",
            "         num__tempo_emprego  3393.568041\n",
            "                cat__sexo_F -2917.879899\n",
            "                cat__sexo_M  2917.879899\n",
            "cat__tipo_renda_Pensionista -1435.185432\n",
            "   cat__tipo_renda_Bolsista -1144.221470\n",
            " num__qt_pessoas_residencia  1050.333500\n",
            " cat__tipo_renda_Empresário   864.960763\n",
            "cat__educacao_Pós graduação   858.714835\n",
            "    cat__estado_civil_União  -827.893538\n",
            "            num__qtd_filhos  -788.943848\n"
          ]
        }
      ]
    },
    {
      "cell_type": "code",
      "metadata": {
        "colab": {
          "base_uri": "https://localhost:8080/",
          "height": 390
        },
        "id": "134c66c2",
        "outputId": "bd59d164-69b2-4b51-8bea-febd017e913b"
      },
      "source": [
        "import matplotlib.pyplot as plt\n",
        "\n",
        "# Visualize the predictions vs actual values for the Regression Tree model\n",
        "# Visualizar as previsões vs valores reais para o modelo de Árvore de Regressão\n",
        "\n",
        "plt.figure(figsize=(10, 6))\n",
        "plt.scatter(y_test, y_pred_tree, alpha=0.5)\n",
        "plt.plot([y_test.min(), y_test.max()], [y_test.min(), y_test.max()], 'k--', lw=2) # Linha de referência y=x\n",
        "plt.xlabel(\"Renda Real (R$)\")\n",
        "plt.ylabel(\"Renda Prevista (R$)\")\n",
        "plt.title(\"Previsões da Árvore de Regressão vs Valores Reais\")\n",
        "plt.grid(True)\n",
        "plt.show()"
      ],
      "execution_count": 86,
      "outputs": [
        {
          "output_type": "display_data",
          "data": {
            "text/plain": [
              "<Figure size 1000x600 with 1 Axes>"
            ],
            "image/png": "[encoded data removed]"
          },
          "metadata": {}
        }
      ]
    },
    {
      "cell_type": "markdown",
      "source": [
        "**6) Criatividade – Melhorar R² com engenharia de atributos**"
      ],
      "metadata": {
        "id": "iqzTr3sL2ymt"
      }
    },
    {
      "cell_type": "code",
      "source": [
        "# 6) Criatividade – Melhorar R² com engenharia de atributos\n",
        "# MELHORIA COM FEATURES POLINOMIAIS E INTERAÇÕES (RIDGE) ===\n",
        "\n",
        "# Cria um preprocessor com PolynomialFeatures nas numéricas (ordem 2)\n",
        "poly = PolynomialFeatures(degree=2, include_bias=False)\n",
        "\n",
        "# Reutilizando a estrutura do ColumnTransformer, aplicando PolynomialFeatures ANTES do StandardScaler nas colunas numéricas.\n",
        "# É importante aplicar o scaler APÓS a criação das features polinomiais.\n",
        "# Certifique-se de que categorical_features e numerical_features estão definidas (célula 50d1d619 ou ubm9Pqo41JiF)\n",
        "# Certifique-se de que bool_cols está definida (célula ubm9Pqo41JiF)\n",
        "pre_poly = ColumnTransformer(\n",
        "    transformers=[\n",
        "        ('cat',  preprocessor.named_transformers_['cat'], categorical_features), # Usando o OneHotEncoder do preprocessor anterior\n",
        "        ('bool', 'passthrough', bool_cols),\n",
        "        ('num',  Pipeline([('imputer', SimpleImputer(strategy='mean')), ('poly', poly), ('scaler', StandardScaler())]), numerical_features), # Imputação + Polinomiais + Escalonamento nas numéricas\n",
        "    ],\n",
        "    remainder='drop'\n",
        ")\n",
        "\n",
        "# Criar o pipeline com o novo preprocessor e o modelo Ridge (usando o melhor alpha encontrado anteriormente)\n",
        "# Certifique-se de que best_ridge_alpha está definido (célula 50d1d619)\n",
        "pipe_poly_ridge = Pipeline(steps=[\n",
        "    ('pre', pre_poly),\n",
        "    ('ridge', Ridge(alpha=best_ridge_alpha if best_ridge_alpha is not None else 0.01, random_state=RANDOM_STATE))\n",
        "])\n",
        "\n",
        "# Treinar o pipeline e avaliar no conjunto de teste\n",
        "# Certifique-se de que X_train e y_train estão definidos (célula ubm9Pqo41JiF)\n",
        "pipe_poly_ridge.fit(X_train, y_train)\n",
        "# Certifique-se de que X_test e y_test estão definidos (célula ubm9Pqo41JiF)\n",
        "y_pred_poly = pipe_poly_ridge.predict(X_test)\n",
        "r2_poly = r2_score(y_test, y_pred_poly)\n",
        "\n",
        "# Certifique-se de que best_ridge_r2 está definido (célula 50d1d619)\n",
        "print(f\"\\n[Ridge + Polinomiais] R2 teste: {r2_poly:.5f}  (baseline Ridge: {best_ridge_r2:.5f})\")\n",
        "\n",
        "# Armazenar r2_poly para comparação posterior\n",
        "# best_poly = (r2_poly, best_ridge_alpha if best_ridge_alpha is not None else 0.01) # Armazenar o R2 e o alpha usado\n",
        "best_poly = (r2_poly, None) # Armazenando apenas o R2 e alpha como None para simplicidade na comparação final, reajustaremos o alpha na próxima célula se necessário"
      ],
      "metadata": {
        "colab": {
          "base_uri": "https://localhost:8080/"
        },
        "id": "h56mwwhB25DR",
        "outputId": "8176d333-c641-4b5e-8ffe-bb40c0133ce9"
      },
      "execution_count": 75,
      "outputs": [
        {
          "output_type": "stream",
          "name": "stdout",
          "text": [
            "\n",
            "[Ridge + Polinomiais] R2 teste: 0.26555  (baseline Ridge: 0.26837)\n"
          ]
        }
      ]
    },
    {
      "cell_type": "code",
      "source": [
        "# Retestar alpha específico para o novo espaço de features\n",
        "# Retestar alpha específico para o novo espaço de características ===\n",
        "alphas_try = [0.001, 0.005, 0.01, 0.05, 0.1, 0.5, 1.0] # Expandindo um pouco os alphas para testar com as novas features\n",
        "best_poly_tuned = (-np.inf, None) # (r2, alpha)\n",
        "\n",
        "# Reutilizando o pre_poly definido na célula anterior (h56mwwhB25DR)\n",
        "# Certifique-se que a célula anterior (h56mwwhB25DR) foi executada\n",
        "\n",
        "print(\"\\nOtimizando alpha para Ridge com Features Polinomiais:\")\n",
        "for a in alphas_try:\n",
        "    # Certifique-se que pre_poly está definido na célula h56mwwhB25DR\n",
        "    tmp_pipe = Pipeline(steps=[('pre', pre_poly), ('ridge', Ridge(alpha=a, random_state=RANDOM_STATE))])\n",
        "    # Certifique-se de que X_train e y_train estão definidos (célula ubm9Pqo41JiF)\n",
        "    tmp_pipe.fit(X_train, y_train)\n",
        "    # Certifique-se de que X_test e y_test estão definidos (célula ubm9Pqo41JiF)\n",
        "    r2a = r2_score(y_test, tmp_pipe.predict(X_test))\n",
        "    print(f\"  alpha={a} -> R2 teste={r2a:.5f}\")\n",
        "    if r2a > best_poly_tuned[0]:\n",
        "        best_poly_tuned = (r2a, a)\n",
        "\n",
        "print(f\"\\nMelhor Ridge+Polinomiais (alpha otimizado): alpha={best_poly_tuned[1]} | R2 teste={best_poly_tuned[0]:.5f}\")\n",
        "\n",
        "# Atualizar best_poly com o resultado otimizado para a comparação final\n",
        "best_poly = best_poly_tuned"
      ],
      "metadata": {
        "colab": {
          "base_uri": "https://localhost:8080/"
        },
        "id": "3J-HDN1Q3DQj",
        "outputId": "8b38ae7f-02e7-4b67-9860-dacd0766e058"
      },
      "execution_count": 76,
      "outputs": [
        {
          "output_type": "stream",
          "name": "stdout",
          "text": [
            "\n",
            "Otimizando alpha para Ridge com Features Polinomiais:\n",
            "  alpha=0.001 -> R2 teste=0.26737\n",
            "  alpha=0.005 -> R2 teste=0.26737\n",
            "  alpha=0.01 -> R2 teste=0.26737\n",
            "  alpha=0.05 -> R2 teste=0.26734\n",
            "  alpha=0.1 -> R2 teste=0.26731\n",
            "  alpha=0.5 -> R2 teste=0.26724\n",
            "  alpha=1.0 -> R2 teste=0.26724\n",
            "\n",
            "Melhor Ridge+Polinomiais (alpha otimizado): alpha=0.001 | R2 teste=0.26737\n"
          ]
        }
      ]
    },
    {
      "cell_type": "markdown",
      "source": [
        "**7) Árvore de Regressão (tuning simples) e R² no teste**"
      ],
      "metadata": {
        "id": "A4jRDEA33MU9"
      }
    },
    {
      "cell_type": "code",
      "source": [
        "# ÁRVORE DE REGRESSÃO\n",
        "\n",
        "# Vamos reutilizar o preprocessor simples (numéricas escaladas + dummies)\n",
        "# Certifique-se de que o preprocessor foi definido e executado anteriormente\n",
        "# pre = make_preprocessor(cat_cols_all, bool_cols, num_cols, drop_first=True) # Se make_preprocessor for definida em outro lugar\n",
        "\n",
        "# Se o preprocessor já foi definido globalmente (como em células anteriores), podemos usá-lo diretamente.\n",
        "# Caso contrário, você precisará defini-lo ou importá-lo.\n",
        "# Assumindo que 'preprocessor' do Ridge/LASSO foi definido e está disponível:\n",
        "\n",
        "pipe_tree = Pipeline(steps=[\n",
        "    ('pre', preprocessor), # Usando o preprocessor definido anteriormente\n",
        "    ('tree', DecisionTreeRegressor(random_state=RANDOM_STATE))\n",
        "])\n",
        "\n",
        "param_grid = {\n",
        "    'tree__max_depth': [3, 4, 5, 6, 8, 10, None],\n",
        "    'tree__min_samples_leaf': [1, 3, 5, 10, 20],\n",
        "    'tree__min_samples_split': [2, 5, 10]\n",
        "}\n",
        "\n",
        "gs = GridSearchCV(pipe_tree, param_grid, scoring='r2', cv=5, n_jobs=-1)\n",
        "gs.fit(X_train, y_train)\n",
        "\n",
        "print(\"\\nMelhores hiperparâmetros (Árvore):\", gs.best_params_)\n",
        "y_pred_tree = gs.predict(X_test)\n",
        "r2_tree = r2_score(y_test, y_pred_tree)\n",
        "print(f\"[Árvore de Regressão] R2 teste: {r2_tree:.5f}\")\n",
        "\n",
        "# Comparação final\n",
        "print(\"\\n=== COMPARAÇÃO FINAL DE R² EM TESTE ===\")\n",
        "# Certifique-se de que as variáveis best_ridge, best_lasso, r2_sfs e best_poly foram definidas anteriormente.\n",
        "if 'best_ridge_r2' in locals():\n",
        "    print(f\"Ridge melhor: {best_ridge_r2:.5f}\")\n",
        "if 'best_lasso_r2' in locals():\n",
        "     print(f\"LASSO melhor: {best_lasso_r2:.5f}\")\n",
        "if 'r2_stepwise' in locals():\n",
        "    print(f\"Stepwise:     {r2_stepwise:.5f}\")\n",
        "# if 'best_poly' in locals(): # descomente se usar a parte de polinomiais\n",
        "#     print(f\"Ridge+Poly:   {best_poly[0]:.5f}\")\n",
        "print(f\"Árvore:       {r2_tree:.5f}\")"
      ],
      "metadata": {
        "colab": {
          "base_uri": "https://localhost:8080/"
        },
        "id": "_XL2eTG63QZl",
        "outputId": "9a285690-76e0-46aa-be95-7925ce1fda10"
      },
      "execution_count": 47,
      "outputs": [
        {
          "output_type": "stream",
          "name": "stdout",
          "text": [
            "\n",
            "Melhores hiperparâmetros (Árvore): {'tree__max_depth': 5, 'tree__min_samples_leaf': 1, 'tree__min_samples_split': 2}\n",
            "[Árvore de Regressão] R2 teste: 0.38091\n",
            "\n",
            "=== COMPARAÇÃO FINAL DE R² EM TESTE ===\n",
            "Ridge melhor: 0.26837\n",
            "LASSO melhor: 0.26823\n",
            "Stepwise:     0.26851\n",
            "Árvore:       0.38091\n"
          ]
        }
      ]
    },
    {
      "cell_type": "markdown",
      "source": [],
      "metadata": {
        "id": "auJMlnvyGa0G"
      }
    },
    {
      "cell_type": "markdown",
      "metadata": {
        "id": "fe5f94c5"
      },
      "source": [
        "**Conclusão:**\n",
        "\n",
        "A Árvore de Regressão apresentou o melhor desempenho preditivo (maior R² no conjunto de teste), indicando que as relações entre as variáveis e a renda são não lineares e envolvem interações complexas que os modelos lineares não captaram adequadamente.\n",
        "\n",
        "Embora os modelos lineares ofereçam maior interpretabilidade, a árvore compensou essa limitação com poder preditivo superior."
      ]
    }
  ]
}