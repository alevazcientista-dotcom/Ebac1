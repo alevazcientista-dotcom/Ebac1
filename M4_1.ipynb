{
  "nbformat": 4,
  "nbformat_minor": 0,
  "metadata": {
    "colab": {
      "provenance": [],
      "authorship_tag": "ABX9TyOwl1l+cguSfhz3ZgvGAOq0"
    },
    "kernelspec": {
      "name": "python3",
      "display_name": "Python 3"
    },
    "language_info": {
      "name": "python"
    }
  },
  "cells": [
    {
      "cell_type": "markdown",
      "source": [
        "# Tarefa 01\n",
        "\n",
        "- Leia os enunciados com atenção\n",
        "- Saiba que pode haver mais de uma resposta correta\n",
        "- Insira novas células de código sempre que achar necessário\n",
        "- Em caso de dúvidas, procure os tutores\n",
        "- Divirta-se :)\n",
        "\n",
        "#### 1)  crie uma série do pandas a partir de uma lista com os dados abaixo:\n",
        "\n",
        "Em um estudo sobre alteração na tempreatura global, A NASA disponibiliza dados de diferenças de de temperatura média da superfície terrestre relativos às médias de temperatura entre 1951 e 1980. Os dados originais podem ser vistos no site da NASA/GISS, e estão dispostos a cada década na tabela abaixo.\n",
        "\n",
        "|ano|anomalia termica|\n",
        "|:-:|:----:|\n",
        "| 1900 | -0.08 |\n",
        "| 1920 | -0.27 |\n",
        "| 1940 | 0.12 |\n",
        "| 1960 | -0.03 |\n",
        "| 1980 | 0.26 |\n",
        "| 2000 | 0.40 |\n",
        "| 2020 | 1.02 |\n",
        "\n",
        "Crie uma séries do Pandas a partir de uma lista com esses dados."
      ],
      "metadata": {
        "id": "B3yrlys4FLj7"
      }
    },
    {
      "cell_type": "code",
      "source": [
        "import pandas as pd\n",
        "\n",
        "# Lista com as anomalias térmicas\n",
        "anomalias = [-0.08, -0.27, 0.12, -0.03, 0.26, 0.40, 1.02]\n",
        "anos = [1900, 1920, 1940, 1960, 1980, 2000, 2020]"
      ],
      "metadata": {
        "id": "9nXIE-BEFNyi"
      },
      "execution_count": 3,
      "outputs": []
    },
    {
      "cell_type": "markdown",
      "source": [
        "#### 2) Coloque os anos nos índices conforme a tabela."
      ],
      "metadata": {
        "id": "IV1odpMUFef9"
      }
    },
    {
      "cell_type": "code",
      "source": [
        "# Série com índice personalizado\n",
        "serie_anomalias = pd.Series(anomalias, index=anos)\n",
        "print(\"\\nSérie com anos como índice:\")\n",
        "print(serie_anomalias)"
      ],
      "metadata": {
        "colab": {
          "base_uri": "https://localhost:8080/"
        },
        "id": "2SNXA9YNFfnV",
        "outputId": "7ae79776-42ea-4a76-d3c0-3c4cfe5701e5"
      },
      "execution_count": 5,
      "outputs": [
        {
          "output_type": "stream",
          "name": "stdout",
          "text": [
            "\n",
            "Série com anos como índice:\n",
            "1900   -0.08\n",
            "1920   -0.27\n",
            "1940    0.12\n",
            "1960   -0.03\n",
            "1980    0.26\n",
            "2000    0.40\n",
            "2020    1.02\n",
            "dtype: float64\n"
          ]
        }
      ]
    },
    {
      "cell_type": "markdown",
      "source": [
        "#### 3) A partir do dicionário abaixo, crie uma séries do Pandas:"
      ],
      "metadata": {
        "id": "56pCCqjLFlSW"
      }
    },
    {
      "cell_type": "code",
      "source": [
        "# Exemplo de dicionário\n",
        "dados_dict = {\n",
        "    \"Brasil\": 212.6,\n",
        "    \"Estados Unidos\": 331.9,\n",
        "    \"Índia\": 1380.0,\n",
        "    \"China\": 1441.0,\n",
        "    \"Rússia\": 146.0\n",
        "}\n",
        "\n",
        "serie_populacao = pd.Series(dados_dict)\n",
        "print(\"\\nSérie criada a partir de um dicionário:\")\n",
        "print(serie_populacao)"
      ],
      "metadata": {
        "colab": {
          "base_uri": "https://localhost:8080/"
        },
        "id": "A48mYoehFmiO",
        "outputId": "c411753b-3ea4-4bcc-b565-aca2cbb7c419"
      },
      "execution_count": 6,
      "outputs": [
        {
          "output_type": "stream",
          "name": "stdout",
          "text": [
            "\n",
            "Série criada a partir de um dicionário:\n",
            "Brasil             212.6\n",
            "Estados Unidos     331.9\n",
            "Índia             1380.0\n",
            "China             1441.0\n",
            "Rússia             146.0\n",
            "dtype: float64\n"
          ]
        }
      ]
    },
    {
      "cell_type": "markdown",
      "source": [
        "#### 4) Transforme o ndarray abaixo em um dataframe.\n",
        "O numpy é capaz de gerar arrays n-dimensionais com números pseudo-aleatórios de acordo com uma variedade de distribuições, como no exemplo abaixo. Transforme esse nd-array em um DataFrame."
      ],
      "metadata": {
        "id": "8o4YvginFtNR"
      }
    },
    {
      "cell_type": "code",
      "source": [
        "import numpy as np\n",
        "\n",
        "# Criação de um array com distribuição normal (20 linhas e 3 colunas)\n",
        "np.random.seed(1234)  # garante reprodutibilidade\n",
        "array_dados = np.random.randn(20, 3)\n",
        "print(\"\\nArray criado:\")\n",
        "print(array_dados)\n",
        "\n",
        "# Transformar em DataFrame\n",
        "df = pd.DataFrame(array_dados)\n",
        "print(\"\\nDataFrame criado a partir do ndarray:\")\n",
        "print(df.head())"
      ],
      "metadata": {
        "colab": {
          "base_uri": "https://localhost:8080/"
        },
        "id": "rZI9AP5FFzIA",
        "outputId": "2ef3dae6-3b17-4339-bce1-1f033c924511"
      },
      "execution_count": 10,
      "outputs": [
        {
          "output_type": "stream",
          "name": "stdout",
          "text": [
            "\n",
            "Array criado:\n",
            "[[ 4.71435164e-01 -1.19097569e+00  1.43270697e+00]\n",
            " [-3.12651896e-01 -7.20588733e-01  8.87162940e-01]\n",
            " [ 8.59588414e-01 -6.36523504e-01  1.56963721e-02]\n",
            " [-2.24268495e+00  1.15003572e+00  9.91946022e-01]\n",
            " [ 9.53324128e-01 -2.02125482e+00 -3.34077366e-01]\n",
            " [ 2.11836468e-03  4.05453412e-01  2.89091941e-01]\n",
            " [ 1.32115819e+00 -1.54690555e+00 -2.02646325e-01]\n",
            " [-6.55969344e-01  1.93421376e-01  5.53438911e-01]\n",
            " [ 1.31815155e+00 -4.69305285e-01  6.75554085e-01]\n",
            " [-1.81702723e+00 -1.83108540e-01  1.05896919e+00]\n",
            " [-3.97840228e-01  3.37437654e-01  1.04757857e+00]\n",
            " [ 1.04593826e+00  8.63717292e-01 -1.22091575e-01]\n",
            " [ 1.24712954e-01 -3.22794806e-01  8.41674713e-01]\n",
            " [ 2.39096052e+00  7.61995878e-02 -5.66445930e-01]\n",
            " [ 3.61419367e-02 -2.07497760e+00  2.47792200e-01]\n",
            " [-8.97156784e-01 -1.36794833e-01  1.82891913e-02]\n",
            " [ 7.55413982e-01  2.15268581e-01  8.41008795e-01]\n",
            " [-1.44581008e+00 -1.40197328e+00 -1.00918200e-01]\n",
            " [-5.48242449e-01 -1.44619508e-01  3.54020332e-01]\n",
            " [-3.55130253e-02  5.65738306e-01  1.54565880e+00]]\n",
            "\n",
            "DataFrame criado a partir do ndarray:\n",
            "          0         1         2\n",
            "0  0.471435 -1.190976  1.432707\n",
            "1 -0.312652 -0.720589  0.887163\n",
            "2  0.859588 -0.636524  0.015696\n",
            "3 -2.242685  1.150036  0.991946\n",
            "4  0.953324 -2.021255 -0.334077\n"
          ]
        }
      ]
    },
    {
      "cell_type": "markdown",
      "source": [
        "#### 5) Nomeie os índices das linhas com inteiros de 1 a 20, e as colunas com os nomes \"x1\", \"x2\", e \"x3\" respectivamente."
      ],
      "metadata": {
        "id": "gVeMcS5AFzrY"
      }
    },
    {
      "cell_type": "code",
      "source": [
        "# Índices de 1 a 20\n",
        "df.index = range(1, 21)\n",
        "\n",
        "# Nome das colunas\n",
        "df.columns = [\"x1\", \"x2\", \"x3\"]\n",
        "\n",
        "print(\"\\nDataFrame com índices e colunas nomeados:\")\n",
        "print(df.head())\n"
      ],
      "metadata": {
        "colab": {
          "base_uri": "https://localhost:8080/"
        },
        "id": "8S7x2uPzF06p",
        "outputId": "5fa7f6c5-7ad3-40f7-fe97-b5ecff0d5e85"
      },
      "execution_count": 11,
      "outputs": [
        {
          "output_type": "stream",
          "name": "stdout",
          "text": [
            "\n",
            "DataFrame com índices e colunas nomeados:\n",
            "         x1        x2        x3\n",
            "1  0.471435 -1.190976  1.432707\n",
            "2 -0.312652 -0.720589  0.887163\n",
            "3  0.859588 -0.636524  0.015696\n",
            "4 -2.242685  1.150036  0.991946\n",
            "5  0.953324 -2.021255 -0.334077\n"
          ]
        }
      ]
    },
    {
      "cell_type": "markdown",
      "source": [
        "#### 6) No DataFrame do exercício 5, crie uma nova coluna como sendo a média das três colunas, e dê a ela o nome de \"media\" (não recomendo colocar acentos em nomes de variáveis)."
      ],
      "metadata": {
        "id": "C9MjsDDJGKgb"
      }
    },
    {
      "cell_type": "code",
      "source": [
        "df[\"media\"] = df[[\"x1\", \"x2\", \"x3\"]].mean(axis=1)\n",
        "\n",
        "print(\"\\nDataFrame com a nova coluna 'media':\")\n",
        "print(df.head())"
      ],
      "metadata": {
        "colab": {
          "base_uri": "https://localhost:8080/"
        },
        "id": "TJFEyyOFGLeM",
        "outputId": "d63b36ed-a3ef-41e3-e3e2-db19f5920a6a"
      },
      "execution_count": 13,
      "outputs": [
        {
          "output_type": "stream",
          "name": "stdout",
          "text": [
            "\n",
            "DataFrame com a nova coluna 'media':\n",
            "         x1        x2        x3     media\n",
            "1  0.471435 -1.190976  1.432707  0.237722\n",
            "2 -0.312652 -0.720589  0.887163 -0.048693\n",
            "3  0.859588 -0.636524  0.015696  0.079587\n",
            "4 -2.242685  1.150036  0.991946 -0.033568\n",
            "5  0.953324 -2.021255 -0.334077 -0.467336\n"
          ]
        }
      ]
    },
    {
      "cell_type": "markdown",
      "source": [
        "#### 7) No DataFrame do exercício 6, crie uma nova coluna chamada \"log_med\", contendo o logaritmo natural da média calculada no exercício 6 <br>"
      ],
      "metadata": {
        "id": "9Es7Zx2YINFl"
      }
    },
    {
      "cell_type": "code",
      "source": [
        "df[\"log_med\"] = np.log(df[\"media\"])\n",
        "\n",
        "print(\"\\nDataFrame final com a coluna 'log_med':\")\n",
        "print(df.head())"
      ],
      "metadata": {
        "colab": {
          "base_uri": "https://localhost:8080/"
        },
        "id": "jHj6BOdcIQLf",
        "outputId": "83637825-732c-40bb-f3ae-4444192a9046"
      },
      "execution_count": 15,
      "outputs": [
        {
          "output_type": "stream",
          "name": "stdout",
          "text": [
            "\n",
            "DataFrame final com a coluna 'log_med':\n",
            "         x1        x2        x3     media   log_med\n",
            "1  0.471435 -1.190976  1.432707  0.237722 -1.436653\n",
            "2 -0.312652 -0.720589  0.887163 -0.048693       NaN\n",
            "3  0.859588 -0.636524  0.015696  0.079587 -2.530903\n",
            "4 -2.242685  1.150036  0.991946 -0.033568       NaN\n",
            "5  0.953324 -2.021255 -0.334077 -0.467336       NaN\n"
          ]
        },
        {
          "output_type": "stream",
          "name": "stderr",
          "text": [
            "/usr/local/lib/python3.12/dist-packages/pandas/core/arraylike.py:399: RuntimeWarning: invalid value encountered in log\n",
            "  result = getattr(ufunc, method)(*inputs, **kwargs)\n"
          ]
        }
      ]
    },
    {
      "cell_type": "markdown",
      "source": [],
      "metadata": {
        "id": "cUajIO6NGMH8"
      }
    }
  ]
}