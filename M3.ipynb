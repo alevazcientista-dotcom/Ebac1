{
  "nbformat": 4,
  "nbformat_minor": 0,
  "metadata": {
    "colab": {
      "provenance": [],
      "authorship_tag": "ABX9TyNuyOnBP7Jnn+6egz03tFqn",
      "include_colab_link": true
    },
    "kernelspec": {
      "name": "python3",
      "display_name": "Python 3"
    },
    "language_info": {
      "name": "python"
    }
  },
  "cells": [
    {
      "cell_type": "markdown",
      "metadata": {
        "id": "view-in-github",
        "colab_type": "text"
      },
      "source": [
        "<a href=\"https://colab.research.google.com/github/alevazcientista-dotcom/Ebac1/blob/main/M3.ipynb\" target=\"_parent\"><img src=\"https://colab.research.google.com/assets/colab-badge.svg\" alt=\"Open In Colab\"/></a>"
      ]
    },
    {
      "cell_type": "code",
      "execution_count": null,
      "metadata": {
        "id": "tehFU_AEuudO"
      },
      "outputs": [],
      "source": [
        "import numpy as np"
      ]
    },
    {
      "cell_type": "markdown",
      "source": [
        "### 1) Alturas  \n",
        "i. No trecho de código abaixo, crie um ndarray chamado ```altura_em_centimetros``` transformando a lista ```lista_de_alturas``` em um ndarray do numpy com a função ```np.array()```  \n",
        "ii. Crie um outro objeto ```altura_em_metros```, com os valores de ```altura_em_centimetros``` convertidos para metros."
      ],
      "metadata": {
        "id": "SfgGMl31v0VA"
      }
    },
    {
      "cell_type": "code",
      "source": [
        "# i) Crie o ndarray com as alturas em centímetros\n",
        "lista_de_centimetros = list(range(170, 190, 5))\n",
        "altura_em_centimetros = np.array(lista_de_centimetros)\n",
        "print(\"Altura em centímetros:\")\n",
        "print(altura_em_centimetros)"
      ],
      "metadata": {
        "colab": {
          "base_uri": "https://localhost:8080/"
        },
        "id": "yHFYhKV9wn1g",
        "outputId": "395b145d-fb02-4039-ce1c-4d55b715a810"
      },
      "execution_count": null,
      "outputs": [
        {
          "output_type": "stream",
          "name": "stdout",
          "text": [
            "Altura em centímetros:\n",
            "[170 175 180 185]\n"
          ]
        }
      ]
    },
    {
      "cell_type": "code",
      "source": [
        "# lista de centímetros e criação do ndarray altura_em_centimetros\n",
        "lista_de_centimetros = list(range(170, 190, 5))  # -> [170, 175, 180, 185]\n",
        "altura_em_centimetros = np.array(lista_de_centimetros)\n",
        "print(\"altura_em_centimetros:\")\n",
        "print(altura_em_centimetros)"
      ],
      "metadata": {
        "colab": {
          "base_uri": "https://localhost:8080/"
        },
        "id": "zql4PjF57CMl",
        "outputId": "8ab64eb8-98e8-4edf-b2a9-f35839728473"
      },
      "execution_count": 21,
      "outputs": [
        {
          "output_type": "stream",
          "name": "stdout",
          "text": [
            "altura_em_centimetros:\n",
            "[170 175 180 185]\n"
          ]
        }
      ]
    },
    {
      "cell_type": "code",
      "source": [
        "#altura_em_centimetros\n",
        "# ii) Converta para metros\n",
        "altura_em_metros = altura_em_centimetros / 100\n",
        "print(\"\\nAltura em metros:\")\n",
        "print(altura_em_metros)"
      ],
      "metadata": {
        "id": "nvxO2MBO0ljf",
        "colab": {
          "base_uri": "https://localhost:8080/"
        },
        "outputId": "d3570162-5117-4c30-9082-7af5c11c4735"
      },
      "execution_count": 22,
      "outputs": [
        {
          "output_type": "stream",
          "name": "stdout",
          "text": [
            "\n",
            "Altura em metros:\n",
            "[1.7  1.75 1.8  1.85]\n"
          ]
        }
      ]
    },
    {
      "cell_type": "markdown",
      "source": [
        "### 2) IMC  \n",
        "i. Considere que pesos em Kg dessas pessoas, na mesma ortem, estão na lista pesos ```lista_pesos = [70, 75, 80, 85]```. Crie um **ndarray** chamado ```pesos``` com a função ```np.array()``` que contenha esses valores.  \n",
        "ii. Utilizando o objeto que contém as alturas em metros e esse objeto que contém os respectivos pesos em quilos, calcule o IMC desses indivíduos utilizando a aritmética de arrays e guarde os resultados em um objeto chamado ```imc```."
      ],
      "metadata": {
        "id": "MxfMxjU51aEW"
      }
    },
    {
      "cell_type": "code",
      "source": [
        "# i) Crie o ndarray de pesos\n",
        "lista_pesos = [70, 75, 80, 85]\n",
        "pesos = np.array(lista_pesos)\n",
        "print(\"Pesos em kg:\")\n",
        "print(pesos)"
      ],
      "metadata": {
        "colab": {
          "base_uri": "https://localhost:8080/"
        },
        "id": "8Be8aUEY1cf_",
        "outputId": "9bd89d67-86aa-40c2-be41-0a8bd6169089"
      },
      "execution_count": null,
      "outputs": [
        {
          "output_type": "stream",
          "name": "stdout",
          "text": [
            "Pesos em kg:\n",
            "[70 75 80 85]\n"
          ]
        }
      ]
    },
    {
      "cell_type": "code",
      "source": [
        "# calcule o IMC dessas pessoas\n",
        "# Crie o ndarray de pesos\n",
        "lista_pesos = [70, 75, 80, 85]\n",
        "pesos = np.array(lista_pesos)\n",
        "print(\"Pesos em kg:\")\n",
        "print(pesos)\n",
        "\n",
        "# Recalculate altura_em_metros for this cell's execution context\n",
        "lista_de_centimetros = list(range(170, 190, 5))\n",
        "altura_em_centimetros = np.array(lista_de_centimetros)\n",
        "altura_em_metros = altura_em_centimetros / 100\n",
        "\n",
        "print(\"\\nAltura em centímetros:\")\n",
        "print(altura_em_centimetros)"
      ],
      "metadata": {
        "id": "HSshZihK10lR",
        "colab": {
          "base_uri": "https://localhost:8080/"
        },
        "outputId": "e8bb7440-865d-4e1b-c8ce-c6f2d6e9038c"
      },
      "execution_count": 8,
      "outputs": [
        {
          "output_type": "stream",
          "name": "stdout",
          "text": [
            "Pesos em kg:\n",
            "[70 75 80 85]\n",
            "\n",
            "Altura em centímetros:\n",
            "[170 175 180 185]\n"
          ]
        }
      ]
    },
    {
      "cell_type": "code",
      "metadata": {
        "colab": {
          "base_uri": "https://localhost:8080/"
        },
        "id": "eea61886",
        "outputId": "10fce60e-b407-4039-b37b-b91d716eae53"
      },
      "source": [
        "# ii) calcule o IMC dessas pessoas\n",
        "imc = pesos / (altura_em_metros**2)\n",
        "print(\"\\nIMC:\")\n",
        "print(imc)"
      ],
      "execution_count": 9,
      "outputs": [
        {
          "output_type": "stream",
          "name": "stdout",
          "text": [
            "\n",
            "IMC:\n",
            "[24.22145329 24.48979592 24.69135802 24.83564646]\n"
          ]
        }
      ]
    },
    {
      "cell_type": "markdown",
      "source": [
        "### 3) Endividamento\n",
        "\n",
        "Cálculos de novas variáveis como endividamento total e comprometimento de renda são essenciais para a construção de modelos financeiros em ciência de dados. Áreas não financeiras terão cálculos semelhantes também. Vamos praticar:\n",
        "\n",
        "Considere que o seguinte ndarray contém os dados de 4 pessoas, total a ser pago a empréstimos mensalmente e renda familiar:\n",
        "\n",
        "| custo fixo | dívida financeira | renda familiar |\n",
        "|:----:|:----:|:---|\n",
        "| 3000  | 1000 | 6000 |\n",
        "| 2500  | 2500 | 5500 |\n",
        "| 1000  | 3000 | 7000 |\n",
        "| 10000 | 5000 | 16000 |\n",
        "\n",
        "i. Transforme a lista de listas ```dados_financeiros``` no ndarray ```nd_financeiros```.\n",
        "> ``` dados_financeiros[[3000, 2500, 1000, 10000],[1000, 2500, 3000, 5000],[6000, 5500, 7000, 16000]] ```\n",
        "\n",
        "ii. Utilize o método ```.transpose ``` e certifique-se de que esse ndarray tenha uma linha por indivíduo e uma coluna por informação. Utilizando a indexação do numpy, imprima no output a segunda linha do array, depois a segunda coluna.\n",
        "\n",
        "iii. Pratique aritmética com nearrays e calcule o endividamento total como:\n",
        "$$endividamento\\hspace{.2cm}total = \\frac{custo \\hspace{.2cm}fixo + dívida\\hspace{.2cm}financeira}{renda\\hspace{.2cm}familiar}$$\n",
        "Guarde os resultados em uma variável chamada ```endividamento_total``` e verifique os resultados imprimindo o conteúdo dessa variável no output.\n",
        "\n",
        "iv. Considere que há um erro de digitação que precisa ser corrigido: 3o indivíduo na verdade não possui renda familiar de R\\\\$7.000,00, mas sim R\\\\$ 10.000,00. Corrija esse valor e refaça os cálculos."
      ],
      "metadata": {
        "id": "Eu73VlNb5E00"
      }
    },
    {
      "cell_type": "code",
      "source": [
        "# lista dados_financeiros\n",
        "dados_financeiros = [[3000, 2500, 1000, 10000],[1000, 2500, 3000, 5000],[6000, 5500, 7000, 16000]]\n",
        "dados_financeiros\n",
        "#i) transforme essa lista em um ndarray"
      ],
      "metadata": {
        "colab": {
          "base_uri": "https://localhost:8080/"
        },
        "id": "OWDDDRN15Gad",
        "outputId": "6c40d1f7-3487-43e5-e4f4-a4c87174799b"
      },
      "execution_count": 10,
      "outputs": [
        {
          "output_type": "execute_result",
          "data": {
            "text/plain": [
              "[[3000, 2500, 1000, 10000],\n",
              " [1000, 2500, 3000, 5000],\n",
              " [6000, 5500, 7000, 16000]]"
            ]
          },
          "metadata": {},
          "execution_count": 10
        }
      ]
    },
    {
      "cell_type": "code",
      "source": [
        "nd_financeiros = np.array(dados_financeiros)\n",
        "print(\"Array original:\")\n",
        "print(nd_financeiros)"
      ],
      "metadata": {
        "colab": {
          "base_uri": "https://localhost:8080/"
        },
        "id": "l_fcKcmK5k-Z",
        "outputId": "ddb41c75-a21b-43b3-dcda-a161d854202b"
      },
      "execution_count": 11,
      "outputs": [
        {
          "output_type": "stream",
          "name": "stdout",
          "text": [
            "Array original:\n",
            "[[ 3000  2500  1000 10000]\n",
            " [ 1000  2500  3000  5000]\n",
            " [ 6000  5500  7000 16000]]\n"
          ]
        }
      ]
    },
    {
      "cell_type": "code",
      "source": [
        "# ii) Transponha o array (uma linha por pessoa)\n",
        "nd_financeiros = nd_financeiros.transpose()\n",
        "print(\"\\nArray transposto (linhas = indivíduos):\")\n",
        "print(nd_financeiros)"
      ],
      "metadata": {
        "colab": {
          "base_uri": "https://localhost:8080/"
        },
        "id": "eqL0UfTG5m95",
        "outputId": "89f27ec1-a9a5-4c5b-a0da-090d33f8db6c"
      },
      "execution_count": 12,
      "outputs": [
        {
          "output_type": "stream",
          "name": "stdout",
          "text": [
            "\n",
            "Array transposto (linhas = indivíduos):\n",
            "[[ 3000  1000  6000]\n",
            " [ 2500  2500  5500]\n",
            " [ 1000  3000  7000]\n",
            " [10000  5000 16000]]\n"
          ]
        }
      ]
    },
    {
      "cell_type": "code",
      "source": [
        "# Segunda linha\n",
        "print(\"\\nSegunda linha (índice 1):\", nd_financeiros[1])\n",
        "# Segunda coluna\n",
        "print(\"Segunda coluna (índice 1):\", nd_financeiros[:, 1])"
      ],
      "metadata": {
        "colab": {
          "base_uri": "https://localhost:8080/"
        },
        "id": "-Vrd0C0f5s50",
        "outputId": "76ecb731-f40f-4f1e-bb4a-b4afbf1e2857"
      },
      "execution_count": 13,
      "outputs": [
        {
          "output_type": "stream",
          "name": "stdout",
          "text": [
            "\n",
            "Segunda linha (índice 1): [2500 2500 5500]\n",
            "Segunda coluna (índice 1): [1000 2500 3000 5000]\n"
          ]
        }
      ]
    },
    {
      "cell_type": "code",
      "source": [
        "# iii) Calcule o endividamento total\n",
        "endividamento_total = (nd_financeiros[:, 0] + nd_financeiros[:, 1]) / nd_financeiros[:, 2]\n",
        "print(\"\\nEndividamento total:\")\n",
        "print(endividamento_total)"
      ],
      "metadata": {
        "colab": {
          "base_uri": "https://localhost:8080/"
        },
        "id": "0Wlf0VBr52ez",
        "outputId": "f5c96a29-3c0b-4a43-c3aa-45144d718a75"
      },
      "execution_count": 14,
      "outputs": [
        {
          "output_type": "stream",
          "name": "stdout",
          "text": [
            "\n",
            "Endividamento total:\n",
            "[0.66666667 0.90909091 0.57142857 0.9375    ]\n"
          ]
        }
      ]
    },
    {
      "cell_type": "code",
      "source": [
        "# iv) Corrigir a renda do 3º indivíduo (índice 2)\n",
        "nd_financeiros[2, 2] = 10000\n",
        "print(\"\\nArray corrigido:\")\n",
        "print(nd_financeiros)"
      ],
      "metadata": {
        "colab": {
          "base_uri": "https://localhost:8080/"
        },
        "id": "bmwvhLgS58bD",
        "outputId": "e3b5adaa-853e-4e74-e633-d9915df36c08"
      },
      "execution_count": 15,
      "outputs": [
        {
          "output_type": "stream",
          "name": "stdout",
          "text": [
            "\n",
            "Array corrigido:\n",
            "[[ 3000  1000  6000]\n",
            " [ 2500  2500  5500]\n",
            " [ 1000  3000 10000]\n",
            " [10000  5000 16000]]\n"
          ]
        }
      ]
    },
    {
      "cell_type": "code",
      "source": [
        "# Recalcular o endividamento\n",
        "endividamento_total = (nd_financeiros[:, 0] + nd_financeiros[:, 1]) / nd_financeiros[:, 2]\n",
        "print(\"\\nEndividamento total (corrigido):\")\n",
        "print(endividamento_total)"
      ],
      "metadata": {
        "colab": {
          "base_uri": "https://localhost:8080/"
        },
        "id": "Y8EqUdYV6FDk",
        "outputId": "93753cc9-042f-4ad0-fec2-521e7e1a9d02"
      },
      "execution_count": 16,
      "outputs": [
        {
          "output_type": "stream",
          "name": "stdout",
          "text": [
            "\n",
            "Endividamento total (corrigido):\n",
            "[0.66666667 0.90909091 0.4        0.9375    ]\n"
          ]
        }
      ]
    },
    {
      "cell_type": "markdown",
      "source": [
        "### 4) É muito comum precisarmos identificar valores especiais e darmos tratamento a eles quer seja alterando-os quer seja descartando-os.\n",
        "\n",
        "O trecho de código abaixo gera um ndarray com números pseudo aleatórios. Considere que para efeitos do estudo que virá, devemos desconsiderar valores iguais a zero. Sendo assim:\n",
        "\n",
        "i) crie um objeto ```bool_zero``` que traga uma sequencia de booleanos do mesmo tamanho que o objeto poi, e que vale ```True``` quando o valor de ```poi``` é zero, e ```False``` caso contrário.\n",
        "\n",
        "ii) Conte quantos valores zero existem. Lembre-se de que no final das contas, ```True``` vale 1 para o Python, e ```False``` vale zero, então uma boa dica seria usar a função ```sum()```.\n",
        "\n",
        "iii) Utilize a indexação booleana que você aprendeu para criar uma variável ```poi_nao_zero``` que aponta para os elementos de ```poi``` diferentes de zero. Dica: você vai pode inverter os elementos do objeto que criou em *ii)* ou escrever a comparação adequada."
      ],
      "metadata": {
        "id": "BQFUOh6v6GwN"
      }
    },
    {
      "cell_type": "code",
      "source": [
        "# Gerar dados\n",
        "np.random.seed(1234)\n",
        "poi = np.random.poisson(3, 100)\n",
        "print(\"Array gerado (poi):\")\n",
        "print(poi)"
      ],
      "metadata": {
        "colab": {
          "base_uri": "https://localhost:8080/"
        },
        "id": "2h09MNsm6M9G",
        "outputId": "16dd8eb0-81a6-42f6-fea0-e4fc3c4e466f"
      },
      "execution_count": 17,
      "outputs": [
        {
          "output_type": "stream",
          "name": "stdout",
          "text": [
            "Array gerado (poi):\n",
            "[3 3 6 2 4 5 4 4 2 0 3 3 2 8 2 3 3 3 0 4 4 2 6 6 0 3 4 3 5 2 1 3 2 2 3 2 4\n",
            " 4 5 7 3 5 3 3 2 2 3 6 2 2 4 3 5 2 5 3 0 2 1 1 4 4 4 6 2 4 1 2 5 5 3 4 1 4\n",
            " 1 1 7 1 2 1 3 7 0 4 4 0 6 1 3 4 2 5 4 5 5 3 4 6 8 2]\n"
          ]
        }
      ]
    },
    {
      "cell_type": "code",
      "source": [
        "# i) Crie o objeto bool_zero\n",
        "bool_zero = poi == 0\n",
        "print(\"\\nValores booleanos (True = zero):\")\n",
        "print(bool_zero)\n"
      ],
      "metadata": {
        "colab": {
          "base_uri": "https://localhost:8080/"
        },
        "id": "dYk5ViS_6a5I",
        "outputId": "16d9e8a0-b264-4d86-c24d-664b1a0830a7"
      },
      "execution_count": 18,
      "outputs": [
        {
          "output_type": "stream",
          "name": "stdout",
          "text": [
            "\n",
            "Valores booleanos (True = zero):\n",
            "[False False False False False False False False False  True False False\n",
            " False False False False False False  True False False False False False\n",
            "  True False False False False False False False False False False False\n",
            " False False False False False False False False False False False False\n",
            " False False False False False False False False  True False False False\n",
            " False False False False False False False False False False False False\n",
            " False False False False False False False False False False  True False\n",
            " False  True False False False False False False False False False False\n",
            " False False False False]\n"
          ]
        }
      ]
    },
    {
      "cell_type": "code",
      "source": [
        "# ii) Conte a quantidade de zeros\n",
        "qtd_zeros = sum(bool_zero)\n",
        "print(\"\\nQuantidade de valores zero:\")\n",
        "print(qtd_zeros)"
      ],
      "metadata": {
        "colab": {
          "base_uri": "https://localhost:8080/"
        },
        "id": "xna3HAvF6dkw",
        "outputId": "67fb1a96-2e7b-4ee5-a128-bb4a27c20a03"
      },
      "execution_count": 19,
      "outputs": [
        {
          "output_type": "stream",
          "name": "stdout",
          "text": [
            "\n",
            "Quantidade de valores zero:\n",
            "6\n"
          ]
        }
      ]
    },
    {
      "cell_type": "code",
      "source": [
        "# iii) Crie poi_nao_zero (valores diferentes de zero)\n",
        "poi_nao_zero = poi[~bool_zero]\n",
        "print(\"\\nArray sem zeros:\")\n",
        "print(poi_nao_zero)"
      ],
      "metadata": {
        "colab": {
          "base_uri": "https://localhost:8080/"
        },
        "id": "SxmHyF6Q6jjh",
        "outputId": "72774df5-d5c7-42ed-b35c-f13f3e47f8db"
      },
      "execution_count": 20,
      "outputs": [
        {
          "output_type": "stream",
          "name": "stdout",
          "text": [
            "\n",
            "Array sem zeros:\n",
            "[3 3 6 2 4 5 4 4 2 3 3 2 8 2 3 3 3 4 4 2 6 6 3 4 3 5 2 1 3 2 2 3 2 4 4 5 7\n",
            " 3 5 3 3 2 2 3 6 2 2 4 3 5 2 5 3 2 1 1 4 4 4 6 2 4 1 2 5 5 3 4 1 4 1 1 7 1\n",
            " 2 1 3 7 4 4 6 1 3 4 2 5 4 5 5 3 4 6 8 2]\n"
          ]
        }
      ]
    }
  ]
}