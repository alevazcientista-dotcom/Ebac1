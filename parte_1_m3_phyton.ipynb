{
  "nbformat": 4,
  "nbformat_minor": 0,
  "metadata": {
    "colab": {
      "provenance": [],
      "authorship_tag": "ABX9TyMi7URR0eER39j/sCVsBcV0",
      "include_colab_link": true
    },
    "kernelspec": {
      "name": "python3",
      "display_name": "Python 3"
    },
    "language_info": {
      "name": "python"
    }
  },
  "cells": [
    {
      "cell_type": "markdown",
      "metadata": {
        "id": "view-in-github",
        "colab_type": "text"
      },
      "source": [
        "<a href=\"https://colab.research.google.com/github/alevazcientista-dotcom/Ebac1/blob/main/parte_1_m3_phyton.ipynb\" target=\"_parent\"><img src=\"https://colab.research.google.com/assets/colab-badge.svg\" alt=\"Open In Colab\"/></a>"
      ]
    },
    {
      "cell_type": "markdown",
      "source": [
        "**1 - Teste de gravidez**"
      ],
      "metadata": {
        "id": "JZVlozNjdZ2E"
      }
    },
    {
      "cell_type": "code",
      "source": [
        "sexo = 'M'\n",
        "beta_hcg = 0"
      ],
      "metadata": {
        "id": "GuA6vIIbdqn2"
      },
      "execution_count": null,
      "outputs": []
    },
    {
      "cell_type": "code",
      "execution_count": null,
      "metadata": {
        "id": "kWOEv6i2bwLw"
      },
      "outputs": [],
      "source": [
        "# variáveis já existentes\n",
        "sexo = 'F'       # 'M' para masculino ou 'F' para feminino\n",
        "beta_hcg = 12    # valor em mUI/mL"
      ]
    },
    {
      "cell_type": "code",
      "source": [
        "# controle de fluxo\n",
        "if sexo == 'M':\n",
        "    print(\"indivíduo do sexo masculino\")\n",
        "elif sexo == 'F':\n",
        "    if beta_hcg > 5:\n",
        "        print(\"Positivo\")\n",
        "    else:\n",
        "        print(\"Negativo\")\n",
        "else:\n",
        "    print(\"Sexo inválido\")"
      ],
      "metadata": {
        "colab": {
          "base_uri": "https://localhost:8080/"
        },
        "id": "Xcky78VucDgW",
        "outputId": "ef6c1f46-762e-4695-9970-07094b775896"
      },
      "execution_count": null,
      "outputs": [
        {
          "output_type": "stream",
          "name": "stdout",
          "text": [
            "Positivo\n"
          ]
        }
      ]
    },
    {
      "cell_type": "markdown",
      "source": [
        "**2 Renomeando Variáveis**"
      ],
      "metadata": {
        "id": "sCSh5cScdyev"
      }
    },
    {
      "cell_type": "code",
      "source": [
        "# Dicionário que renomeia as variáveis originais\n",
        "rename_dict = {\n",
        "    'name': 'nome',\n",
        "    'age': 'idade',\n",
        "    'income': 'renda'\n",
        "}\n",
        "\n",
        "# Exibindo o dicionário criado\n",
        "print(rename_dict)"
      ],
      "metadata": {
        "colab": {
          "base_uri": "https://localhost:8080/"
        },
        "id": "KvVBZ23Cez0-",
        "outputId": "c308c2a3-09d2-4098-9282-2894e552dd3a"
      },
      "execution_count": null,
      "outputs": [
        {
          "output_type": "stream",
          "name": "stdout",
          "text": [
            "{'name': 'nome', 'age': 'idade', 'income': 'renda'}\n"
          ]
        }
      ]
    },
    {
      "cell_type": "markdown",
      "source": [
        "**3 É Divisível ?**"
      ],
      "metadata": {
        "id": "e-6oyDM5gUM6"
      }
    },
    {
      "cell_type": "code",
      "source": [
        "# valor de N e M\n",
        "N = 42\n",
        "M = 7\n",
        "\n",
        "# verificação de divisibilidade\n",
        "if M == 0:\n",
        "    print(\"Não é possível dividir por zero.\")\n",
        "elif N % M == 0:\n",
        "    print(f\"{N} é divisível por {M}.\")\n",
        "else:\n",
        "    print(f\"{N} não é divisível por {M}.\")"
      ],
      "metadata": {
        "colab": {
          "base_uri": "https://localhost:8080/"
        },
        "id": "JlZY6DJPhC6Z",
        "outputId": "917a23da-7b17-4c8e-8ba7-7bf75775d1ff"
      },
      "execution_count": null,
      "outputs": [
        {
          "output_type": "stream",
          "name": "stdout",
          "text": [
            "42 é divisível por 7.\n"
          ]
        }
      ]
    },
    {
      "cell_type": "markdown",
      "source": [
        "**4 Números Primos**"
      ],
      "metadata": {
        "id": "zkr--22UiDDR"
      }
    },
    {
      "cell_type": "code",
      "source": [
        "# valor de exemplo (pode ser alterado)\n",
        "N = 13\n",
        "\n",
        "# contador de divisores\n",
        "divisores = 0\n",
        "\n",
        "# loop para verificar divisibilidade de 1 até N\n",
        "for i in range(1, N + 1):\n",
        "    if N % i == 0:\n",
        "        divisores += 1\n",
        "\n",
        "# condição para número primo\n",
        "if divisores == 2:\n",
        "    print(f\"{N} é um número primo.\")\n",
        "else:\n",
        "    print(f\"{N} não é um número primo.\")"
      ],
      "metadata": {
        "colab": {
          "base_uri": "https://localhost:8080/"
        },
        "id": "u88L68L8hrof",
        "outputId": "c5065f97-f64b-4b06-aacb-c1a327515f48"
      },
      "execution_count": null,
      "outputs": [
        {
          "output_type": "stream",
          "name": "stdout",
          "text": [
            "13 é um número primo.\n"
          ]
        }
      ]
    },
    {
      "cell_type": "code",
      "source": [
        "# no caso o valor de N\n",
        "N = 47\n",
        "\n",
        "# contador de divisores\n",
        "divisores = 0\n",
        "\n",
        "# loop para verificar divisibilidade de 1 até N\n",
        "for i in range(1, N + 1):\n",
        "    if N % i == 0:\n",
        "        divisores += 1\n",
        "\n",
        "# condição para número primo\n",
        "if divisores == 2:\n",
        "    print(f\"{N} é um número primo.\")\n",
        "else:\n",
        "    print(f\"{N} não é um número primo.\")"
      ],
      "metadata": {
        "colab": {
          "base_uri": "https://localhost:8080/"
        },
        "id": "D5h_cjEAifZ8",
        "outputId": "e302e890-2c06-4a7b-81c1-48b87165cf68"
      },
      "execution_count": null,
      "outputs": [
        {
          "output_type": "stream",
          "name": "stdout",
          "text": [
            "47 é um número primo.\n"
          ]
        }
      ]
    },
    {
      "cell_type": "markdown",
      "source": [
        "**5 Desafio**"
      ],
      "metadata": {
        "id": "T4DqA-MKiN5l"
      }
    },
    {
      "cell_type": "markdown",
      "source": [
        "**Opção 1**"
      ],
      "metadata": {
        "id": "9dR7oitdkAyi"
      }
    },
    {
      "cell_type": "code",
      "source": [
        "# Desafio: Verificação eficiente de número primo\n",
        "\n",
        "N = 47  # valor fornecido\n",
        "\n",
        "# números menores que 2 não são primos\n",
        "if N < 2:\n",
        "    print(f\"{N} não é um número primo.\")\n",
        "else:\n",
        "    eh_primo = True  # assume que é primo até provar o contrário\n",
        "\n",
        "    # não precisamos testar até N, apenas até a raiz quadrada de N\n",
        "    for i in range(2, int(N**0.5) + 1):\n",
        "        if N % i == 0:\n",
        "            eh_primo = False\n",
        "            break  # já achou um divisor, não precisa continuar\n",
        "\n",
        "    # resultado final\n",
        "    if eh_primo:\n",
        "        print(f\"{N} é um número primo.\")\n",
        "    else:\n",
        "        print(f\"{N} não é um número primo.\")"
      ],
      "metadata": {
        "colab": {
          "base_uri": "https://localhost:8080/"
        },
        "id": "xWezBN7mjgxf",
        "outputId": "d55e703a-5e97-4a43-c21a-2eea1b39dd6c"
      },
      "execution_count": null,
      "outputs": [
        {
          "output_type": "stream",
          "name": "stdout",
          "text": [
            "47 é um número primo.\n"
          ]
        }
      ]
    },
    {
      "cell_type": "markdown",
      "source": [
        "**Opção 2 **"
      ],
      "metadata": {
        "id": "dkbPl6kgkOoU"
      }
    },
    {
      "cell_type": "code",
      "source": [
        "N = 47  # valor fornecido\n",
        "\n",
        "if N < 2:\n",
        "    print(f\"{N} não é um número primo.\")\n",
        "elif N == 2:\n",
        "    print(f\"{N} é um número primo.\")\n",
        "elif N % 2 == 0:\n",
        "    print(f\"{N} não é um número primo.\")\n",
        "else:\n",
        "    eh_primo = True\n",
        "    # verifica apenas números ímpares até a raiz quadrada de N\n",
        "    for i in range(3, int(N**0.5) + 1, 2):\n",
        "        if N % i == 0:\n",
        "            eh_primo = False\n",
        "            break\n",
        "\n",
        "    if eh_primo:\n",
        "        print(f\"{N} é um número primo.\")\n",
        "    else:\n",
        "        print(f\"{N} não é um número primo.\")\n"
      ],
      "metadata": {
        "colab": {
          "base_uri": "https://localhost:8080/"
        },
        "id": "YOQ5zDLIj-Ej",
        "outputId": "90557007-df27-4279-b460-e79f4230f9b8"
      },
      "execution_count": null,
      "outputs": [
        {
          "output_type": "stream",
          "name": "stdout",
          "text": [
            "47 é um número primo.\n"
          ]
        }
      ]
    },
    {
      "cell_type": "markdown",
      "source": [
        "**Opção 3 **"
      ],
      "metadata": {
        "id": "eolsZY75kZYk"
      }
    },
    {
      "cell_type": "code",
      "source": [
        "import math\n",
        "\n",
        "# valor de exemplo (pode ser alterado)\n",
        "N = 13\n",
        "\n",
        "# contador de divisores\n",
        "divisores = 0\n",
        "\n",
        "# loop otimizado: só precisa ir até a raiz quadrada de N\n",
        "for i in range(1, int(math.sqrt(N)) + 1):\n",
        "    if N % i == 0:\n",
        "        # se 'i' é divisor, o par 'N // i' também é\n",
        "        divisores += 2 if i != N // i else 1\n",
        "\n",
        "# condição para número primo\n",
        "if divisores == 2:\n",
        "    print(f\"{N} é um número primo.\")\n",
        "else:\n",
        "    print(f\"{N} não é um número primo.\")"
      ],
      "metadata": {
        "colab": {
          "base_uri": "https://localhost:8080/"
        },
        "id": "3aLh5YBVkeD9",
        "outputId": "23b0b818-0960-4470-acd2-8039510b7e9c"
      },
      "execution_count": null,
      "outputs": [
        {
          "output_type": "stream",
          "name": "stdout",
          "text": [
            "13 é um número primo.\n"
          ]
        }
      ]
    },
    {
      "cell_type": "markdown",
      "source": [
        "**Opção 4**"
      ],
      "metadata": {
        "id": "MMTqgLPvdiFE"
      }
    },
    {
      "cell_type": "code",
      "source": [
        "import math\n",
        "\n",
        "# valor de exemplo\n",
        "N = 98\n",
        "\n",
        "# contador de divisores\n",
        "divisores = 0\n",
        "\n",
        "# loop otimizado: só precisa ir até a raiz quadrada de N\n",
        "for i in range(1, int(math.sqrt(N)) + 1):\n",
        "    if N % i == 0:\n",
        "        # se 'i' é divisor, 'N // i' também é\n",
        "        # exceto quando i == N // i (como no caso de quadrado perfeito)\n",
        "        divisores += 2 if i != N // i else 1\n",
        "\n",
        "# condição para número primo\n",
        "if divisores == 2:\n",
        "    print(f\"{N} é um número primo.\")\n",
        "else:\n",
        "    print(f\"{N} não é um número primo.\")"
      ],
      "metadata": {
        "colab": {
          "base_uri": "https://localhost:8080/"
        },
        "id": "Gs4s41M_ltFA",
        "outputId": "ab689a6c-f84d-4816-d467-0aa453708752"
      },
      "execution_count": null,
      "outputs": [
        {
          "output_type": "stream",
          "name": "stdout",
          "text": [
            "98 não é um número primo.\n"
          ]
        }
      ]
    },
    {
      "cell_type": "markdown",
      "source": [
        "**6 Peso ideal 1**"
      ],
      "metadata": {
        "id": "dSmAI5l8l5WK"
      }
    },
    {
      "cell_type": "code",
      "source": [
        "# limites da faixa normal segundo a OMS\n",
        "# Segundo a OMS, valores *normais* são entre 18.5 e 24.9.\n",
        "\n",
        "minimo = 18.5\n",
        "maximo = 24.9\n",
        "\n",
        "# cálculo do ponto médio\n",
        "imc_ideal = (minimo + maximo) / 2\n",
        "\n",
        "imc_ideal = round(imc_ideal, 2)\n",
        "\n",
        "print(f\"O IMC ideal é {imc_ideal}\")"
      ],
      "metadata": {
        "colab": {
          "base_uri": "https://localhost:8080/"
        },
        "id": "bUFbSAEZmVT1",
        "outputId": "1c4da565-fb26-4e15-80cd-f61403f4479d"
      },
      "execution_count": null,
      "outputs": [
        {
          "output_type": "stream",
          "name": "stdout",
          "text": [
            "O IMC ideal é 21.7\n"
          ]
        }
      ]
    },
    {
      "cell_type": "markdown",
      "source": [
        "**7 Peso Ideal 2**"
      ],
      "metadata": {
        "id": "63Ah8J6-m8Pi"
      }
    },
    {
      "cell_type": "code",
      "source": [
        "# Segundo a OMS, valores *normais* são entre 18.5 e 24.9.\n",
        "# dados\n",
        "altura = 1.70\n",
        "imc_ideal = 21.7\n",
        "\n",
        "# cálculo do peso ideal\n",
        "peso_ideal = imc_ideal * (altura ** 2)\n",
        "\n",
        "peso_ideal"
      ],
      "metadata": {
        "colab": {
          "base_uri": "https://localhost:8080/"
        },
        "id": "WkSxaBAgnHYL",
        "outputId": "62f36a2e-b10d-406a-b034-27c182f82d8d"
      },
      "execution_count": null,
      "outputs": [
        {
          "output_type": "execute_result",
          "data": {
            "text/plain": [
              "62.712999999999994"
            ]
          },
          "metadata": {},
          "execution_count": 24
        }
      ]
    },
    {
      "cell_type": "markdown",
      "source": [
        "**8 Peso ideal 3**"
      ],
      "metadata": {
        "id": "KjX6CX_cn_MS"
      }
    },
    {
      "cell_type": "code",
      "source": [
        "# lista de alturas\n",
        "lista_alturas = [1.95, 2.05, 1.70, 1.65]\n",
        "\n",
        "# IMC ideal calculado anteriormente\n",
        "imc_ideal = 21.7\n",
        "\n",
        "# lista para armazenar os pesos ideais\n",
        "lista_peso_ideal = []\n",
        "\n",
        "# loop para calcular o peso ideal de cada pessoa\n",
        "for altura in lista_alturas:\n",
        "    peso = imc_ideal * (altura ** 2)\n",
        "    lista_peso_ideal.append(peso)\n",
        "\n",
        "lista_peso_ideal"
      ],
      "metadata": {
        "colab": {
          "base_uri": "https://localhost:8080/"
        },
        "id": "r0eCDwQXoE58",
        "outputId": "a8f503c0-acaa-4531-da7f-d9bfe94637a2"
      },
      "execution_count": null,
      "outputs": [
        {
          "output_type": "execute_result",
          "data": {
            "text/plain": [
              "[82.51424999999999, 91.19425, 62.712999999999994, 59.07824999999999]"
            ]
          },
          "metadata": {},
          "execution_count": 25
        }
      ]
    },
    {
      "cell_type": "markdown",
      "source": [
        "**9 Peso Ideal 4**"
      ],
      "metadata": {
        "id": "RjZgADwSooxg"
      }
    },
    {
      "cell_type": "code",
      "source": [
        "altura_peso = [(1.80, 90), (1.65, 75), (1.91, 70)]\n",
        "\n",
        "imc = []\n",
        "\n",
        "# loop para calcular o IMC de cada paciente\n",
        "for altura, peso in altura_peso:\n",
        "    valor_imc = peso / (altura ** 2)\n",
        "    imc.append(valor_imc)\n",
        "\n",
        "imc"
      ],
      "metadata": {
        "colab": {
          "base_uri": "https://localhost:8080/"
        },
        "id": "0nBLje75oy26",
        "outputId": "d74007d6-41aa-4f1c-ff66-31245e778bde"
      },
      "execution_count": null,
      "outputs": [
        {
          "output_type": "execute_result",
          "data": {
            "text/plain": [
              "[27.777777777777775, 27.548209366391188, 19.188070502453332]"
            ]
          },
          "metadata": {},
          "execution_count": 26
        }
      ]
    },
    {
      "cell_type": "markdown",
      "source": [
        "**Peso Ideal 10**"
      ],
      "metadata": {
        "id": "CwnAih9fpi7Q"
      }
    },
    {
      "cell_type": "code",
      "source": [
        "altura_peso = [[1.80, 90], [1.65, 75], [1.91, 70]]\n",
        "\n",
        "# loop para calcular o IMC e adicionar à lista\n",
        "for paciente in altura_peso:\n",
        "    altura = paciente[0]\n",
        "    peso = paciente[1]\n",
        "\n",
        "    # cálculo do IMC\n",
        "    imc = peso / (altura ** 2)\n",
        "\n",
        "    # classificação segundo a OMS\n",
        "    if imc < 18.5:\n",
        "        classificacao = 'baixo'\n",
        "    elif imc <= 24.9:\n",
        "        classificacao = 'normal'\n",
        "    else:\n",
        "        classificacao = 'alto'\n",
        "\n",
        "    # adiciona o IMC e a classificação à lista do paciente\n",
        "    paciente.append(round(imc, 2))\n",
        "    paciente.append(classificacao)\n",
        "\n",
        "altura_peso\n"
      ],
      "metadata": {
        "colab": {
          "base_uri": "https://localhost:8080/"
        },
        "id": "lgvQCiLrppYq",
        "outputId": "87408853-0574-4e71-a665-a4a012b484f3"
      },
      "execution_count": null,
      "outputs": [
        {
          "output_type": "execute_result",
          "data": {
            "text/plain": [
              "[[1.8, 90, 27.78, 'alto'],\n",
              " [1.65, 75, 27.55, 'alto'],\n",
              " [1.91, 70, 19.19, 'normal']]"
            ]
          },
          "metadata": {},
          "execution_count": 27
        }
      ]
    },
    {
      "cell_type": "markdown",
      "source": [],
      "metadata": {
        "id": "ld_OLK5Fmx9J"
      }
    }
  ]
}